{
  "nbformat": 4,
  "nbformat_minor": 0,
  "metadata": {
    "colab": {
      "provenance": [],
      "collapsed_sections": [],
      "authorship_tag": "ABX9TyNE7Mu+s+ZQ4rar65AYwbiy",
      "include_colab_link": true
    },
    "kernelspec": {
      "name": "python3",
      "display_name": "Python 3"
    },
    "language_info": {
      "name": "python"
    },
    "accelerator": "GPU",
    "gpuClass": "standard"
  },
  "cells": [
    {
      "cell_type": "markdown",
      "metadata": {
        "id": "view-in-github",
        "colab_type": "text"
      },
      "source": [
        "<a href=\"https://colab.research.google.com/github/KenaMuigai/dataScienceEvaluation/blob/main/Datascience_evaluation.ipynb\" target=\"_parent\"><img src=\"https://colab.research.google.com/assets/colab-badge.svg\" alt=\"Open In Colab\"/></a>"
      ]
    },
    {
      "cell_type": "markdown",
      "source": [
        "# 1. Imports, Grabbing the dataset, Reading the dataset, getting the shape of data\n",
        "\n"
      ],
      "metadata": {
        "id": "Wg8LeSUigUbp"
      }
    },
    {
      "cell_type": "markdown",
      "source": [
        "Imports"
      ],
      "metadata": {
        "id": "fyjCjQDjFJzD"
      }
    },
    {
      "cell_type": "code",
      "source": [
        "import pandas as pd\n",
        "import numpy as np\n",
        "import io\n",
        "from sklearn.preprocessing import StandardScaler\n",
        "from sklearn.linear_model import LogisticRegression, LinearRegression\n",
        "from sklearn.linear_model import Lasso, LassoCV\n",
        "from sklearn.feature_selection import SelectFromModel\n",
        "from sklearn.model_selection import train_test_split, KFold,cross_val_score,GridSearchCV,RandomizedSearchCV\n",
        "from sklearn.decomposition import PCA\n",
        "from sklearn import linear_model,metrics\n",
        "from sklearn.metrics import mean_squared_error"
      ],
      "metadata": {
        "id": "Ph1QANhkFF-l"
      },
      "execution_count": 77,
      "outputs": []
    },
    {
      "cell_type": "markdown",
      "source": [
        "Grabbing Our Dataset\n",
        "\n"
      ],
      "metadata": {
        "id": "47vQPklDEktC"
      }
    },
    {
      "cell_type": "code",
      "execution_count": 119,
      "metadata": {
        "colab": {
          "resources": {
            "http://localhost:8080/nbextensions/google.colab/files.js": {
              "data": "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",
              "ok": true,
              "headers": [
                [
                  "content-type",
                  "application/javascript"
                ]
              ],
              "status": 200,
              "status_text": ""
            }
          },
          "base_uri": "https://localhost:8080/",
          "height": 73
        },
        "id": "O4uWXjUE86N7",
        "outputId": "ac4117ca-ff08-4c1f-c7c2-253ec9d43c9e"
      },
      "outputs": [
        {
          "output_type": "display_data",
          "data": {
            "text/plain": [
              "<IPython.core.display.HTML object>"
            ],
            "text/html": [
              "\n",
              "     <input type=\"file\" id=\"files-e0f29763-1122-4aed-bde9-56787f4839c0\" name=\"files[]\" multiple disabled\n",
              "        style=\"border:none\" />\n",
              "     <output id=\"result-e0f29763-1122-4aed-bde9-56787f4839c0\">\n",
              "      Upload widget is only available when the cell has been executed in the\n",
              "      current browser session. Please rerun this cell to enable.\n",
              "      </output>\n",
              "      <script src=\"/nbextensions/google.colab/files.js\"></script> "
            ]
          },
          "metadata": {}
        },
        {
          "output_type": "stream",
          "name": "stdout",
          "text": [
            "Saving Train_data.csv to Train_data (1).csv\n"
          ]
        }
      ],
      "source": [
        "from google.colab import files\n",
        "uploaded = files.upload()"
      ]
    },
    {
      "cell_type": "markdown",
      "source": [
        "Reading the training data file"
      ],
      "metadata": {
        "id": "pkCT68UgE-tQ"
      }
    },
    {
      "cell_type": "code",
      "source": [
        "galaxy = pd.read_csv(io.BytesIO(uploaded['Train_data.csv'])) #using IO for categories such as raw/binary/text input\n",
        "galaxy.head()"
      ],
      "metadata": {
        "id": "TBl-Lx10FDlJ",
        "colab": {
          "base_uri": "https://localhost:8080/",
          "height": 456
        },
        "outputId": "eadb58d1-5b3a-4a52-f1c1-542ed1d014e5"
      },
      "execution_count": 121,
      "outputs": [
        {
          "output_type": "execute_result",
          "data": {
            "text/plain": [
              "      ID  galactic year                       galaxy  \\\n",
              "0  10065        1002001                     Antlia B   \n",
              "1  10087         999000  KKH 11 (ZOAG G135.74-04.53)   \n",
              "2  10141         993012                 Leo IV Dwarf   \n",
              "3  10168         995006                      NGC 185   \n",
              "4  10201         996004                       Grus I   \n",
              "\n",
              "   existence expectancy index  existence expectancy at birth  \\\n",
              "0                    0.624015                      56.397241   \n",
              "1                    0.970048                      80.924094   \n",
              "2                    0.995540                      82.441006   \n",
              "3                    1.004362                      75.635986   \n",
              "4                    1.050627                      83.412540   \n",
              "\n",
              "   Gross income per capita  Income Index  \\\n",
              "0              17649.87156      0.458599   \n",
              "1              11409.94296      0.757218   \n",
              "2              58774.29343      1.032429   \n",
              "3              34960.41911      0.707776   \n",
              "4              17073.45121      0.951402   \n",
              "\n",
              "   Expected years of education (galactic years)  \\\n",
              "0                                      7.857841   \n",
              "1                                     15.869798   \n",
              "2                                     17.545117   \n",
              "3                                     13.578086   \n",
              "4                                     13.518157   \n",
              "\n",
              "   Mean years of education (galactic years)  \\\n",
              "0                                  5.196527   \n",
              "1                                 13.065734   \n",
              "2                                 11.399711   \n",
              "3                                       NaN   \n",
              "4                                 11.749071   \n",
              "\n",
              "   Intergalactic Development Index (IDI)  ...  \\\n",
              "0                               0.507534  ...   \n",
              "1                               0.807108  ...   \n",
              "2                               0.973684  ...   \n",
              "3                                    NaN  ...   \n",
              "4                               0.965452  ...   \n",
              "\n",
              "   Intergalactic Development Index (IDI), female  \\\n",
              "0                                            NaN   \n",
              "1                                            NaN   \n",
              "2                                            NaN   \n",
              "3                                            NaN   \n",
              "4                                            NaN   \n",
              "\n",
              "   Intergalactic Development Index (IDI), male  \\\n",
              "0                                          NaN   \n",
              "1                                          NaN   \n",
              "2                                          NaN   \n",
              "3                                          NaN   \n",
              "4                                          NaN   \n",
              "\n",
              "   Gender Development Index (GDI)  \\\n",
              "0                             NaN   \n",
              "1                             NaN   \n",
              "2                             NaN   \n",
              "3                             NaN   \n",
              "4                             NaN   \n",
              "\n",
              "   Intergalactic Development Index (IDI), female, Rank  \\\n",
              "0                                                NaN     \n",
              "1                                                NaN     \n",
              "2                                                NaN     \n",
              "3                                                NaN     \n",
              "4                                                NaN     \n",
              "\n",
              "   Intergalactic Development Index (IDI), male, Rank  Adjusted net savings   \\\n",
              "0                                                NaN                    NaN   \n",
              "1                                                NaN                    NaN   \n",
              "2                                                NaN                    NaN   \n",
              "3                                                NaN                    NaN   \n",
              "4                                                NaN                    NaN   \n",
              "\n",
              "   Creature Immunodeficiency Disease prevalence, adult (% ages 15-49), total  \\\n",
              "0                                                NaN                           \n",
              "1                                                NaN                           \n",
              "2                                                NaN                           \n",
              "3                                           1.546539                           \n",
              "4                                                NaN                           \n",
              "\n",
              "   Private galaxy capital flows (% of GGP)  Gender Inequality Index (GII)  \\\n",
              "0                                      NaN                            NaN   \n",
              "1                                      NaN                            NaN   \n",
              "2                                      NaN                            NaN   \n",
              "3                                      NaN                       0.562809   \n",
              "4                                      NaN                            NaN   \n",
              "\n",
              "   Well-Being Index  \n",
              "0          0.041404  \n",
              "1          0.098777  \n",
              "2          0.200747  \n",
              "3          0.067170  \n",
              "4          0.078351  \n",
              "\n",
              "[5 rows x 81 columns]"
            ],
            "text/html": [
              "\n",
              "  <div id=\"df-4da46cb7-b374-4a63-9b09-1aea82de43ec\">\n",
              "    <div class=\"colab-df-container\">\n",
              "      <div>\n",
              "<style scoped>\n",
              "    .dataframe tbody tr th:only-of-type {\n",
              "        vertical-align: middle;\n",
              "    }\n",
              "\n",
              "    .dataframe tbody tr th {\n",
              "        vertical-align: top;\n",
              "    }\n",
              "\n",
              "    .dataframe thead th {\n",
              "        text-align: right;\n",
              "    }\n",
              "</style>\n",
              "<table border=\"1\" class=\"dataframe\">\n",
              "  <thead>\n",
              "    <tr style=\"text-align: right;\">\n",
              "      <th></th>\n",
              "      <th>ID</th>\n",
              "      <th>galactic year</th>\n",
              "      <th>galaxy</th>\n",
              "      <th>existence expectancy index</th>\n",
              "      <th>existence expectancy at birth</th>\n",
              "      <th>Gross income per capita</th>\n",
              "      <th>Income Index</th>\n",
              "      <th>Expected years of education (galactic years)</th>\n",
              "      <th>Mean years of education (galactic years)</th>\n",
              "      <th>Intergalactic Development Index (IDI)</th>\n",
              "      <th>...</th>\n",
              "      <th>Intergalactic Development Index (IDI), female</th>\n",
              "      <th>Intergalactic Development Index (IDI), male</th>\n",
              "      <th>Gender Development Index (GDI)</th>\n",
              "      <th>Intergalactic Development Index (IDI), female, Rank</th>\n",
              "      <th>Intergalactic Development Index (IDI), male, Rank</th>\n",
              "      <th>Adjusted net savings</th>\n",
              "      <th>Creature Immunodeficiency Disease prevalence, adult (% ages 15-49), total</th>\n",
              "      <th>Private galaxy capital flows (% of GGP)</th>\n",
              "      <th>Gender Inequality Index (GII)</th>\n",
              "      <th>Well-Being Index</th>\n",
              "    </tr>\n",
              "  </thead>\n",
              "  <tbody>\n",
              "    <tr>\n",
              "      <th>0</th>\n",
              "      <td>10065</td>\n",
              "      <td>1002001</td>\n",
              "      <td>Antlia B</td>\n",
              "      <td>0.624015</td>\n",
              "      <td>56.397241</td>\n",
              "      <td>17649.87156</td>\n",
              "      <td>0.458599</td>\n",
              "      <td>7.857841</td>\n",
              "      <td>5.196527</td>\n",
              "      <td>0.507534</td>\n",
              "      <td>...</td>\n",
              "      <td>NaN</td>\n",
              "      <td>NaN</td>\n",
              "      <td>NaN</td>\n",
              "      <td>NaN</td>\n",
              "      <td>NaN</td>\n",
              "      <td>NaN</td>\n",
              "      <td>NaN</td>\n",
              "      <td>NaN</td>\n",
              "      <td>NaN</td>\n",
              "      <td>0.041404</td>\n",
              "    </tr>\n",
              "    <tr>\n",
              "      <th>1</th>\n",
              "      <td>10087</td>\n",
              "      <td>999000</td>\n",
              "      <td>KKH 11 (ZOAG G135.74-04.53)</td>\n",
              "      <td>0.970048</td>\n",
              "      <td>80.924094</td>\n",
              "      <td>11409.94296</td>\n",
              "      <td>0.757218</td>\n",
              "      <td>15.869798</td>\n",
              "      <td>13.065734</td>\n",
              "      <td>0.807108</td>\n",
              "      <td>...</td>\n",
              "      <td>NaN</td>\n",
              "      <td>NaN</td>\n",
              "      <td>NaN</td>\n",
              "      <td>NaN</td>\n",
              "      <td>NaN</td>\n",
              "      <td>NaN</td>\n",
              "      <td>NaN</td>\n",
              "      <td>NaN</td>\n",
              "      <td>NaN</td>\n",
              "      <td>0.098777</td>\n",
              "    </tr>\n",
              "    <tr>\n",
              "      <th>2</th>\n",
              "      <td>10141</td>\n",
              "      <td>993012</td>\n",
              "      <td>Leo IV Dwarf</td>\n",
              "      <td>0.995540</td>\n",
              "      <td>82.441006</td>\n",
              "      <td>58774.29343</td>\n",
              "      <td>1.032429</td>\n",
              "      <td>17.545117</td>\n",
              "      <td>11.399711</td>\n",
              "      <td>0.973684</td>\n",
              "      <td>...</td>\n",
              "      <td>NaN</td>\n",
              "      <td>NaN</td>\n",
              "      <td>NaN</td>\n",
              "      <td>NaN</td>\n",
              "      <td>NaN</td>\n",
              "      <td>NaN</td>\n",
              "      <td>NaN</td>\n",
              "      <td>NaN</td>\n",
              "      <td>NaN</td>\n",
              "      <td>0.200747</td>\n",
              "    </tr>\n",
              "    <tr>\n",
              "      <th>3</th>\n",
              "      <td>10168</td>\n",
              "      <td>995006</td>\n",
              "      <td>NGC 185</td>\n",
              "      <td>1.004362</td>\n",
              "      <td>75.635986</td>\n",
              "      <td>34960.41911</td>\n",
              "      <td>0.707776</td>\n",
              "      <td>13.578086</td>\n",
              "      <td>NaN</td>\n",
              "      <td>NaN</td>\n",
              "      <td>...</td>\n",
              "      <td>NaN</td>\n",
              "      <td>NaN</td>\n",
              "      <td>NaN</td>\n",
              "      <td>NaN</td>\n",
              "      <td>NaN</td>\n",
              "      <td>NaN</td>\n",
              "      <td>1.546539</td>\n",
              "      <td>NaN</td>\n",
              "      <td>0.562809</td>\n",
              "      <td>0.067170</td>\n",
              "    </tr>\n",
              "    <tr>\n",
              "      <th>4</th>\n",
              "      <td>10201</td>\n",
              "      <td>996004</td>\n",
              "      <td>Grus I</td>\n",
              "      <td>1.050627</td>\n",
              "      <td>83.412540</td>\n",
              "      <td>17073.45121</td>\n",
              "      <td>0.951402</td>\n",
              "      <td>13.518157</td>\n",
              "      <td>11.749071</td>\n",
              "      <td>0.965452</td>\n",
              "      <td>...</td>\n",
              "      <td>NaN</td>\n",
              "      <td>NaN</td>\n",
              "      <td>NaN</td>\n",
              "      <td>NaN</td>\n",
              "      <td>NaN</td>\n",
              "      <td>NaN</td>\n",
              "      <td>NaN</td>\n",
              "      <td>NaN</td>\n",
              "      <td>NaN</td>\n",
              "      <td>0.078351</td>\n",
              "    </tr>\n",
              "  </tbody>\n",
              "</table>\n",
              "<p>5 rows × 81 columns</p>\n",
              "</div>\n",
              "      <button class=\"colab-df-convert\" onclick=\"convertToInteractive('df-4da46cb7-b374-4a63-9b09-1aea82de43ec')\"\n",
              "              title=\"Convert this dataframe to an interactive table.\"\n",
              "              style=\"display:none;\">\n",
              "        \n",
              "  <svg xmlns=\"http://www.w3.org/2000/svg\" height=\"24px\"viewBox=\"0 0 24 24\"\n",
              "       width=\"24px\">\n",
              "    <path d=\"M0 0h24v24H0V0z\" fill=\"none\"/>\n",
              "    <path d=\"M18.56 5.44l.94 2.06.94-2.06 2.06-.94-2.06-.94-.94-2.06-.94 2.06-2.06.94zm-11 1L8.5 8.5l.94-2.06 2.06-.94-2.06-.94L8.5 2.5l-.94 2.06-2.06.94zm10 10l.94 2.06.94-2.06 2.06-.94-2.06-.94-.94-2.06-.94 2.06-2.06.94z\"/><path d=\"M17.41 7.96l-1.37-1.37c-.4-.4-.92-.59-1.43-.59-.52 0-1.04.2-1.43.59L10.3 9.45l-7.72 7.72c-.78.78-.78 2.05 0 2.83L4 21.41c.39.39.9.59 1.41.59.51 0 1.02-.2 1.41-.59l7.78-7.78 2.81-2.81c.8-.78.8-2.07 0-2.86zM5.41 20L4 18.59l7.72-7.72 1.47 1.35L5.41 20z\"/>\n",
              "  </svg>\n",
              "      </button>\n",
              "      \n",
              "  <style>\n",
              "    .colab-df-container {\n",
              "      display:flex;\n",
              "      flex-wrap:wrap;\n",
              "      gap: 12px;\n",
              "    }\n",
              "\n",
              "    .colab-df-convert {\n",
              "      background-color: #E8F0FE;\n",
              "      border: none;\n",
              "      border-radius: 50%;\n",
              "      cursor: pointer;\n",
              "      display: none;\n",
              "      fill: #1967D2;\n",
              "      height: 32px;\n",
              "      padding: 0 0 0 0;\n",
              "      width: 32px;\n",
              "    }\n",
              "\n",
              "    .colab-df-convert:hover {\n",
              "      background-color: #E2EBFA;\n",
              "      box-shadow: 0px 1px 2px rgba(60, 64, 67, 0.3), 0px 1px 3px 1px rgba(60, 64, 67, 0.15);\n",
              "      fill: #174EA6;\n",
              "    }\n",
              "\n",
              "    [theme=dark] .colab-df-convert {\n",
              "      background-color: #3B4455;\n",
              "      fill: #D2E3FC;\n",
              "    }\n",
              "\n",
              "    [theme=dark] .colab-df-convert:hover {\n",
              "      background-color: #434B5C;\n",
              "      box-shadow: 0px 1px 3px 1px rgba(0, 0, 0, 0.15);\n",
              "      filter: drop-shadow(0px 1px 2px rgba(0, 0, 0, 0.3));\n",
              "      fill: #FFFFFF;\n",
              "    }\n",
              "  </style>\n",
              "\n",
              "      <script>\n",
              "        const buttonEl =\n",
              "          document.querySelector('#df-4da46cb7-b374-4a63-9b09-1aea82de43ec button.colab-df-convert');\n",
              "        buttonEl.style.display =\n",
              "          google.colab.kernel.accessAllowed ? 'block' : 'none';\n",
              "\n",
              "        async function convertToInteractive(key) {\n",
              "          const element = document.querySelector('#df-4da46cb7-b374-4a63-9b09-1aea82de43ec');\n",
              "          const dataTable =\n",
              "            await google.colab.kernel.invokeFunction('convertToInteractive',\n",
              "                                                     [key], {});\n",
              "          if (!dataTable) return;\n",
              "\n",
              "          const docLinkHtml = 'Like what you see? Visit the ' +\n",
              "            '<a target=\"_blank\" href=https://colab.research.google.com/notebooks/data_table.ipynb>data table notebook</a>'\n",
              "            + ' to learn more about interactive tables.';\n",
              "          element.innerHTML = '';\n",
              "          dataTable['output_type'] = 'display_data';\n",
              "          await google.colab.output.renderOutput(dataTable, element);\n",
              "          const docLink = document.createElement('div');\n",
              "          docLink.innerHTML = docLinkHtml;\n",
              "          element.appendChild(docLink);\n",
              "        }\n",
              "      </script>\n",
              "    </div>\n",
              "  </div>\n",
              "  "
            ]
          },
          "metadata": {},
          "execution_count": 121
        }
      ]
    },
    {
      "cell_type": "markdown",
      "source": [
        "Grabbing the number of rows and columns in our dataset"
      ],
      "metadata": {
        "id": "cYEzDuemtQJj"
      }
    },
    {
      "cell_type": "code",
      "source": [
        "galaxy.shape #gives us an idea of how data looks like"
      ],
      "metadata": {
        "id": "iV9LqJ0bt0ga",
        "colab": {
          "base_uri": "https://localhost:8080/"
        },
        "outputId": "141857aa-fd15-4430-929c-acc45eeccbbe"
      },
      "execution_count": 5,
      "outputs": [
        {
          "output_type": "execute_result",
          "data": {
            "text/plain": [
              "(3097, 81)"
            ]
          },
          "metadata": {},
          "execution_count": 5
        }
      ]
    },
    {
      "cell_type": "code",
      "source": [
        "galaxy.info() #gives us information like shape(rows + columns)"
      ],
      "metadata": {
        "id": "sF0aU4LvvkD5",
        "colab": {
          "base_uri": "https://localhost:8080/"
        },
        "outputId": "82a8c818-0517-46ec-f356-7c3565b2f040"
      },
      "execution_count": 6,
      "outputs": [
        {
          "output_type": "stream",
          "name": "stdout",
          "text": [
            "<class 'pandas.core.frame.DataFrame'>\n",
            "RangeIndex: 3097 entries, 0 to 3096\n",
            "Data columns (total 81 columns):\n",
            " #   Column                                                                                   Non-Null Count  Dtype  \n",
            "---  ------                                                                                   --------------  -----  \n",
            " 0   ID                                                                                       3097 non-null   int64  \n",
            " 1   galactic year                                                                            3097 non-null   int64  \n",
            " 2   galaxy                                                                                   3097 non-null   object \n",
            " 3   existence expectancy index                                                               3096 non-null   float64\n",
            " 4   existence expectancy at birth                                                            3096 non-null   float64\n",
            " 5   Gross income per capita                                                                  3069 non-null   float64\n",
            " 6   Income Index                                                                             3069 non-null   float64\n",
            " 7   Expected years of education (galactic years)                                             2968 non-null   float64\n",
            " 8   Mean years of education (galactic years)                                                 2742 non-null   float64\n",
            " 9   Intergalactic Development Index (IDI)                                                    2716 non-null   float64\n",
            " 10  Education Index                                                                          2716 non-null   float64\n",
            " 11  Intergalactic Development Index (IDI), Rank                                              2678 non-null   float64\n",
            " 12  Population using at least basic drinking-water services (%)                              1286 non-null   float64\n",
            " 13  Population using at least basic sanitation services (%)                                  1282 non-null   float64\n",
            " 14  Gross capital formation (% of GGP)                                                       869 non-null    float64\n",
            " 15  Population, total (millions)                                                             693 non-null    float64\n",
            " 16  Population, urban (%)                                                                    693 non-null    float64\n",
            " 17  Mortality rate, under-five (per 1,000 live births)                                       693 non-null    float64\n",
            " 18  Mortality rate, infant (per 1,000 live births)                                           681 non-null    float64\n",
            " 19  Old age dependency ratio (old age (65 and older) per 100 creatures (ages 15-64))         688 non-null    float64\n",
            " 20  Population, ages 15â€“64 (millions)                                                      688 non-null    float64\n",
            " 21  Population, ages 65 and older (millions)                                                 688 non-null    float64\n",
            " 22  Life expectancy at birth, male (galactic years)                                          688 non-null    float64\n",
            " 23  Life expectancy at birth, female (galactic years)                                        688 non-null    float64\n",
            " 24  Population, under age 5 (millions)                                                       688 non-null    float64\n",
            " 25  Young age (0-14) dependency ratio (per 100 creatures ages 15-64)                         688 non-null    float64\n",
            " 26  Adolescent birth rate (births per 1,000 female creatures ages 15-19)                     676 non-null    float64\n",
            " 27  Total unemployment rate (female to male ratio)                                           662 non-null    float64\n",
            " 28  Vulnerable employment (% of total employment)                                            662 non-null    float64\n",
            " 29  Unemployment, total (% of labour force)                                                  662 non-null    float64\n",
            " 30  Employment in agriculture (% of total employment)                                        662 non-null    float64\n",
            " 31  Labour force participation rate (% ages 15 and older)                                    665 non-null    float64\n",
            " 32  Labour force participation rate (% ages 15 and older), female                            665 non-null    float64\n",
            " 33  Employment in services (% of total employment)                                           662 non-null    float64\n",
            " 34  Labour force participation rate (% ages 15 and older), male                              665 non-null    float64\n",
            " 35  Employment to population ratio (% ages 15 and older)                                     662 non-null    float64\n",
            " 36  Jungle area (% of total land area)                                                       663 non-null    float64\n",
            " 37  Share of employment in nonagriculture, female (% of total employment in nonagriculture)  662 non-null    float64\n",
            " 38  Youth unemployment rate (female to male ratio)                                           661 non-null    float64\n",
            " 39  Unemployment, youth (% ages 15â€“24)                                                     661 non-null    float64\n",
            " 40  Mortality rate, female grown up (per 1,000 people)                                       688 non-null    float64\n",
            " 41  Mortality rate, male grown up (per 1,000 people)                                         688 non-null    float64\n",
            " 42  Infants lacking immunization, red hot disease (% of one-galactic year-olds)              643 non-null    float64\n",
            " 43  Infants lacking immunization, Combination Vaccine (% of one-galactic year-olds)          643 non-null    float64\n",
            " 44  Gross galactic product (GGP) per capita                                                  633 non-null    float64\n",
            " 45  Gross galactic product (GGP), total                                                      633 non-null    float64\n",
            " 46  Outer Galaxies direct investment, net inflows (% of GGP)                                 601 non-null    float64\n",
            " 47  Exports and imports (% of GGP)                                                           593 non-null    float64\n",
            " 48  Share of seats in senate (% held by female)                                              572 non-null    float64\n",
            " 49  Natural resource depletion                                                               579 non-null    float64\n",
            " 50  Mean years of education, female (galactic years)                                         591 non-null    float64\n",
            " 51  Mean years of education, male (galactic years)                                           589 non-null    float64\n",
            " 52  Expected years of education, female (galactic years)                                     555 non-null    float64\n",
            " 53  Expected years of education, male (galactic years)                                       554 non-null    float64\n",
            " 54  Maternal mortality ratio (deaths per 100,000 live births)                                676 non-null    float64\n",
            " 55  Renewable energy consumption (% of total final energy consumption)                       659 non-null    float64\n",
            " 56  Estimated gross galactic income per capita, male                                         485 non-null    float64\n",
            " 57  Estimated gross galactic income per capita, female                                       485 non-null    float64\n",
            " 58  Rural population with access to electricity (%)                                          457 non-null    float64\n",
            " 59  Domestic credit provided by financial sector (% of GGP)                                  540 non-null    float64\n",
            " 60  Population with at least some secondary education, female (% ages 25 and older)          574 non-null    float64\n",
            " 61  Population with at least some secondary education, male (% ages 25 and older)            574 non-null    float64\n",
            " 62  Gross fixed capital formation (% of GGP)                                                 557 non-null    float64\n",
            " 63  Remittances, inflows (% of GGP)                                                          501 non-null    float64\n",
            " 64  Population with at least some secondary education (% ages 25 and older)                  551 non-null    float64\n",
            " 65  Intergalactic inbound tourists (thousands)                                               459 non-null    float64\n",
            " 66  Gross enrolment ratio, primary (% of primary under-age population)                       561 non-null    float64\n",
            " 67  Respiratory disease incidence (per 100,000 people)                                       321 non-null    float64\n",
            " 68  Interstellar phone subscriptions (per 100 people)                                        317 non-null    float64\n",
            " 69  Interstellar Data Net users, total (% of population)                                     309 non-null    float64\n",
            " 70  Current health expenditure (% of GGP)                                                    308 non-null    float64\n",
            " 71  Intergalactic Development Index (IDI), female                                            389 non-null    float64\n",
            " 72  Intergalactic Development Index (IDI), male                                              388 non-null    float64\n",
            " 73  Gender Development Index (GDI)                                                           387 non-null    float64\n",
            " 74  Intergalactic Development Index (IDI), female, Rank                                      379 non-null    float64\n",
            " 75  Intergalactic Development Index (IDI), male, Rank                                        378 non-null    float64\n",
            " 76  Adjusted net savings                                                                     443 non-null    float64\n",
            " 77  Creature Immunodeficiency Disease prevalence, adult (% ages 15-49), total                516 non-null    float64\n",
            " 78  Private galaxy capital flows (% of GGP)                                                  379 non-null    float64\n",
            " 79  Gender Inequality Index (GII)                                                            357 non-null    float64\n",
            " 80  Well-Being Index                                                                         3097 non-null   float64\n",
            "dtypes: float64(78), int64(2), object(1)\n",
            "memory usage: 1.9+ MB\n"
          ]
        }
      ]
    },
    {
      "cell_type": "markdown",
      "source": [
        "\n",
        "\n",
        "# 2. Seperating features, Checking for missing data, Filling in Missing Data/Deleting Colums"
      ],
      "metadata": {
        "id": "erL5yGQmhHET"
      }
    },
    {
      "cell_type": "code",
      "source": [
        "galaxy['galaxy'].nunique()"
      ],
      "metadata": {
        "id": "i4t_CTCEwsoa",
        "colab": {
          "base_uri": "https://localhost:8080/"
        },
        "outputId": "603d85ee-db68-451f-9fd6-0055f24ac53a"
      },
      "execution_count": 7,
      "outputs": [
        {
          "output_type": "execute_result",
          "data": {
            "text/plain": [
              "181"
            ]
          },
          "metadata": {},
          "execution_count": 7
        }
      ]
    },
    {
      "cell_type": "code",
      "source": [
        "galaxy['galaxy'] = galaxy['galaxy'].astype('category')\n",
        "galaxy.dtypes"
      ],
      "metadata": {
        "id": "tkYBHVowxyMe",
        "colab": {
          "base_uri": "https://localhost:8080/"
        },
        "outputId": "d9088fec-ea6c-49b9-8992-08127c4f4bbf"
      },
      "execution_count": 8,
      "outputs": [
        {
          "output_type": "execute_result",
          "data": {
            "text/plain": [
              "ID                                                                              int64\n",
              "galactic year                                                                   int64\n",
              "galaxy                                                                       category\n",
              "existence expectancy index                                                    float64\n",
              "existence expectancy at birth                                                 float64\n",
              "                                                                               ...   \n",
              "Adjusted net savings                                                          float64\n",
              "Creature Immunodeficiency Disease prevalence, adult (% ages 15-49), total     float64\n",
              "Private galaxy capital flows (% of GGP)                                       float64\n",
              "Gender Inequality Index (GII)                                                 float64\n",
              "Well-Being Index                                                              float64\n",
              "Length: 81, dtype: object"
            ]
          },
          "metadata": {},
          "execution_count": 8
        }
      ]
    },
    {
      "cell_type": "code",
      "source": [
        "galaxy[\"galaxy\"] = galaxy[\"galaxy\"].cat.codes\n",
        "galaxy.head()"
      ],
      "metadata": {
        "id": "UZUyLKwgyCMr",
        "colab": {
          "base_uri": "https://localhost:8080/",
          "height": 386
        },
        "outputId": "8f101628-8df5-4913-b13d-618112f3d975"
      },
      "execution_count": 9,
      "outputs": [
        {
          "output_type": "execute_result",
          "data": {
            "text/plain": [
              "      ID  galactic year  galaxy  existence expectancy index  \\\n",
              "0  10065        1002001      24                    0.624015   \n",
              "1  10087         999000      85                    0.970048   \n",
              "2  10141         993012     100                    0.995540   \n",
              "3  10168         995006     113                    1.004362   \n",
              "4  10201         996004      66                    1.050627   \n",
              "\n",
              "   existence expectancy at birth  Gross income per capita  Income Index  \\\n",
              "0                      56.397241              17649.87156      0.458599   \n",
              "1                      80.924094              11409.94296      0.757218   \n",
              "2                      82.441006              58774.29343      1.032429   \n",
              "3                      75.635986              34960.41911      0.707776   \n",
              "4                      83.412540              17073.45121      0.951402   \n",
              "\n",
              "   Expected years of education (galactic years)  \\\n",
              "0                                      7.857841   \n",
              "1                                     15.869798   \n",
              "2                                     17.545117   \n",
              "3                                     13.578086   \n",
              "4                                     13.518157   \n",
              "\n",
              "   Mean years of education (galactic years)  \\\n",
              "0                                  5.196527   \n",
              "1                                 13.065734   \n",
              "2                                 11.399711   \n",
              "3                                       NaN   \n",
              "4                                 11.749071   \n",
              "\n",
              "   Intergalactic Development Index (IDI)  ...  \\\n",
              "0                               0.507534  ...   \n",
              "1                               0.807108  ...   \n",
              "2                               0.973684  ...   \n",
              "3                                    NaN  ...   \n",
              "4                               0.965452  ...   \n",
              "\n",
              "   Intergalactic Development Index (IDI), female  \\\n",
              "0                                            NaN   \n",
              "1                                            NaN   \n",
              "2                                            NaN   \n",
              "3                                            NaN   \n",
              "4                                            NaN   \n",
              "\n",
              "   Intergalactic Development Index (IDI), male  \\\n",
              "0                                          NaN   \n",
              "1                                          NaN   \n",
              "2                                          NaN   \n",
              "3                                          NaN   \n",
              "4                                          NaN   \n",
              "\n",
              "   Gender Development Index (GDI)  \\\n",
              "0                             NaN   \n",
              "1                             NaN   \n",
              "2                             NaN   \n",
              "3                             NaN   \n",
              "4                             NaN   \n",
              "\n",
              "   Intergalactic Development Index (IDI), female, Rank  \\\n",
              "0                                                NaN     \n",
              "1                                                NaN     \n",
              "2                                                NaN     \n",
              "3                                                NaN     \n",
              "4                                                NaN     \n",
              "\n",
              "   Intergalactic Development Index (IDI), male, Rank  Adjusted net savings   \\\n",
              "0                                                NaN                    NaN   \n",
              "1                                                NaN                    NaN   \n",
              "2                                                NaN                    NaN   \n",
              "3                                                NaN                    NaN   \n",
              "4                                                NaN                    NaN   \n",
              "\n",
              "   Creature Immunodeficiency Disease prevalence, adult (% ages 15-49), total  \\\n",
              "0                                                NaN                           \n",
              "1                                                NaN                           \n",
              "2                                                NaN                           \n",
              "3                                           1.546539                           \n",
              "4                                                NaN                           \n",
              "\n",
              "   Private galaxy capital flows (% of GGP)  Gender Inequality Index (GII)  \\\n",
              "0                                      NaN                            NaN   \n",
              "1                                      NaN                            NaN   \n",
              "2                                      NaN                            NaN   \n",
              "3                                      NaN                       0.562809   \n",
              "4                                      NaN                            NaN   \n",
              "\n",
              "   Well-Being Index  \n",
              "0          0.041404  \n",
              "1          0.098777  \n",
              "2          0.200747  \n",
              "3          0.067170  \n",
              "4          0.078351  \n",
              "\n",
              "[5 rows x 81 columns]"
            ],
            "text/html": [
              "\n",
              "  <div id=\"df-19d9aabc-1c8d-4bbb-9f00-412981f3040a\">\n",
              "    <div class=\"colab-df-container\">\n",
              "      <div>\n",
              "<style scoped>\n",
              "    .dataframe tbody tr th:only-of-type {\n",
              "        vertical-align: middle;\n",
              "    }\n",
              "\n",
              "    .dataframe tbody tr th {\n",
              "        vertical-align: top;\n",
              "    }\n",
              "\n",
              "    .dataframe thead th {\n",
              "        text-align: right;\n",
              "    }\n",
              "</style>\n",
              "<table border=\"1\" class=\"dataframe\">\n",
              "  <thead>\n",
              "    <tr style=\"text-align: right;\">\n",
              "      <th></th>\n",
              "      <th>ID</th>\n",
              "      <th>galactic year</th>\n",
              "      <th>galaxy</th>\n",
              "      <th>existence expectancy index</th>\n",
              "      <th>existence expectancy at birth</th>\n",
              "      <th>Gross income per capita</th>\n",
              "      <th>Income Index</th>\n",
              "      <th>Expected years of education (galactic years)</th>\n",
              "      <th>Mean years of education (galactic years)</th>\n",
              "      <th>Intergalactic Development Index (IDI)</th>\n",
              "      <th>...</th>\n",
              "      <th>Intergalactic Development Index (IDI), female</th>\n",
              "      <th>Intergalactic Development Index (IDI), male</th>\n",
              "      <th>Gender Development Index (GDI)</th>\n",
              "      <th>Intergalactic Development Index (IDI), female, Rank</th>\n",
              "      <th>Intergalactic Development Index (IDI), male, Rank</th>\n",
              "      <th>Adjusted net savings</th>\n",
              "      <th>Creature Immunodeficiency Disease prevalence, adult (% ages 15-49), total</th>\n",
              "      <th>Private galaxy capital flows (% of GGP)</th>\n",
              "      <th>Gender Inequality Index (GII)</th>\n",
              "      <th>Well-Being Index</th>\n",
              "    </tr>\n",
              "  </thead>\n",
              "  <tbody>\n",
              "    <tr>\n",
              "      <th>0</th>\n",
              "      <td>10065</td>\n",
              "      <td>1002001</td>\n",
              "      <td>24</td>\n",
              "      <td>0.624015</td>\n",
              "      <td>56.397241</td>\n",
              "      <td>17649.87156</td>\n",
              "      <td>0.458599</td>\n",
              "      <td>7.857841</td>\n",
              "      <td>5.196527</td>\n",
              "      <td>0.507534</td>\n",
              "      <td>...</td>\n",
              "      <td>NaN</td>\n",
              "      <td>NaN</td>\n",
              "      <td>NaN</td>\n",
              "      <td>NaN</td>\n",
              "      <td>NaN</td>\n",
              "      <td>NaN</td>\n",
              "      <td>NaN</td>\n",
              "      <td>NaN</td>\n",
              "      <td>NaN</td>\n",
              "      <td>0.041404</td>\n",
              "    </tr>\n",
              "    <tr>\n",
              "      <th>1</th>\n",
              "      <td>10087</td>\n",
              "      <td>999000</td>\n",
              "      <td>85</td>\n",
              "      <td>0.970048</td>\n",
              "      <td>80.924094</td>\n",
              "      <td>11409.94296</td>\n",
              "      <td>0.757218</td>\n",
              "      <td>15.869798</td>\n",
              "      <td>13.065734</td>\n",
              "      <td>0.807108</td>\n",
              "      <td>...</td>\n",
              "      <td>NaN</td>\n",
              "      <td>NaN</td>\n",
              "      <td>NaN</td>\n",
              "      <td>NaN</td>\n",
              "      <td>NaN</td>\n",
              "      <td>NaN</td>\n",
              "      <td>NaN</td>\n",
              "      <td>NaN</td>\n",
              "      <td>NaN</td>\n",
              "      <td>0.098777</td>\n",
              "    </tr>\n",
              "    <tr>\n",
              "      <th>2</th>\n",
              "      <td>10141</td>\n",
              "      <td>993012</td>\n",
              "      <td>100</td>\n",
              "      <td>0.995540</td>\n",
              "      <td>82.441006</td>\n",
              "      <td>58774.29343</td>\n",
              "      <td>1.032429</td>\n",
              "      <td>17.545117</td>\n",
              "      <td>11.399711</td>\n",
              "      <td>0.973684</td>\n",
              "      <td>...</td>\n",
              "      <td>NaN</td>\n",
              "      <td>NaN</td>\n",
              "      <td>NaN</td>\n",
              "      <td>NaN</td>\n",
              "      <td>NaN</td>\n",
              "      <td>NaN</td>\n",
              "      <td>NaN</td>\n",
              "      <td>NaN</td>\n",
              "      <td>NaN</td>\n",
              "      <td>0.200747</td>\n",
              "    </tr>\n",
              "    <tr>\n",
              "      <th>3</th>\n",
              "      <td>10168</td>\n",
              "      <td>995006</td>\n",
              "      <td>113</td>\n",
              "      <td>1.004362</td>\n",
              "      <td>75.635986</td>\n",
              "      <td>34960.41911</td>\n",
              "      <td>0.707776</td>\n",
              "      <td>13.578086</td>\n",
              "      <td>NaN</td>\n",
              "      <td>NaN</td>\n",
              "      <td>...</td>\n",
              "      <td>NaN</td>\n",
              "      <td>NaN</td>\n",
              "      <td>NaN</td>\n",
              "      <td>NaN</td>\n",
              "      <td>NaN</td>\n",
              "      <td>NaN</td>\n",
              "      <td>1.546539</td>\n",
              "      <td>NaN</td>\n",
              "      <td>0.562809</td>\n",
              "      <td>0.067170</td>\n",
              "    </tr>\n",
              "    <tr>\n",
              "      <th>4</th>\n",
              "      <td>10201</td>\n",
              "      <td>996004</td>\n",
              "      <td>66</td>\n",
              "      <td>1.050627</td>\n",
              "      <td>83.412540</td>\n",
              "      <td>17073.45121</td>\n",
              "      <td>0.951402</td>\n",
              "      <td>13.518157</td>\n",
              "      <td>11.749071</td>\n",
              "      <td>0.965452</td>\n",
              "      <td>...</td>\n",
              "      <td>NaN</td>\n",
              "      <td>NaN</td>\n",
              "      <td>NaN</td>\n",
              "      <td>NaN</td>\n",
              "      <td>NaN</td>\n",
              "      <td>NaN</td>\n",
              "      <td>NaN</td>\n",
              "      <td>NaN</td>\n",
              "      <td>NaN</td>\n",
              "      <td>0.078351</td>\n",
              "    </tr>\n",
              "  </tbody>\n",
              "</table>\n",
              "<p>5 rows × 81 columns</p>\n",
              "</div>\n",
              "      <button class=\"colab-df-convert\" onclick=\"convertToInteractive('df-19d9aabc-1c8d-4bbb-9f00-412981f3040a')\"\n",
              "              title=\"Convert this dataframe to an interactive table.\"\n",
              "              style=\"display:none;\">\n",
              "        \n",
              "  <svg xmlns=\"http://www.w3.org/2000/svg\" height=\"24px\"viewBox=\"0 0 24 24\"\n",
              "       width=\"24px\">\n",
              "    <path d=\"M0 0h24v24H0V0z\" fill=\"none\"/>\n",
              "    <path d=\"M18.56 5.44l.94 2.06.94-2.06 2.06-.94-2.06-.94-.94-2.06-.94 2.06-2.06.94zm-11 1L8.5 8.5l.94-2.06 2.06-.94-2.06-.94L8.5 2.5l-.94 2.06-2.06.94zm10 10l.94 2.06.94-2.06 2.06-.94-2.06-.94-.94-2.06-.94 2.06-2.06.94z\"/><path d=\"M17.41 7.96l-1.37-1.37c-.4-.4-.92-.59-1.43-.59-.52 0-1.04.2-1.43.59L10.3 9.45l-7.72 7.72c-.78.78-.78 2.05 0 2.83L4 21.41c.39.39.9.59 1.41.59.51 0 1.02-.2 1.41-.59l7.78-7.78 2.81-2.81c.8-.78.8-2.07 0-2.86zM5.41 20L4 18.59l7.72-7.72 1.47 1.35L5.41 20z\"/>\n",
              "  </svg>\n",
              "      </button>\n",
              "      \n",
              "  <style>\n",
              "    .colab-df-container {\n",
              "      display:flex;\n",
              "      flex-wrap:wrap;\n",
              "      gap: 12px;\n",
              "    }\n",
              "\n",
              "    .colab-df-convert {\n",
              "      background-color: #E8F0FE;\n",
              "      border: none;\n",
              "      border-radius: 50%;\n",
              "      cursor: pointer;\n",
              "      display: none;\n",
              "      fill: #1967D2;\n",
              "      height: 32px;\n",
              "      padding: 0 0 0 0;\n",
              "      width: 32px;\n",
              "    }\n",
              "\n",
              "    .colab-df-convert:hover {\n",
              "      background-color: #E2EBFA;\n",
              "      box-shadow: 0px 1px 2px rgba(60, 64, 67, 0.3), 0px 1px 3px 1px rgba(60, 64, 67, 0.15);\n",
              "      fill: #174EA6;\n",
              "    }\n",
              "\n",
              "    [theme=dark] .colab-df-convert {\n",
              "      background-color: #3B4455;\n",
              "      fill: #D2E3FC;\n",
              "    }\n",
              "\n",
              "    [theme=dark] .colab-df-convert:hover {\n",
              "      background-color: #434B5C;\n",
              "      box-shadow: 0px 1px 3px 1px rgba(0, 0, 0, 0.15);\n",
              "      filter: drop-shadow(0px 1px 2px rgba(0, 0, 0, 0.3));\n",
              "      fill: #FFFFFF;\n",
              "    }\n",
              "  </style>\n",
              "\n",
              "      <script>\n",
              "        const buttonEl =\n",
              "          document.querySelector('#df-19d9aabc-1c8d-4bbb-9f00-412981f3040a button.colab-df-convert');\n",
              "        buttonEl.style.display =\n",
              "          google.colab.kernel.accessAllowed ? 'block' : 'none';\n",
              "\n",
              "        async function convertToInteractive(key) {\n",
              "          const element = document.querySelector('#df-19d9aabc-1c8d-4bbb-9f00-412981f3040a');\n",
              "          const dataTable =\n",
              "            await google.colab.kernel.invokeFunction('convertToInteractive',\n",
              "                                                     [key], {});\n",
              "          if (!dataTable) return;\n",
              "\n",
              "          const docLinkHtml = 'Like what you see? Visit the ' +\n",
              "            '<a target=\"_blank\" href=https://colab.research.google.com/notebooks/data_table.ipynb>data table notebook</a>'\n",
              "            + ' to learn more about interactive tables.';\n",
              "          element.innerHTML = '';\n",
              "          dataTable['output_type'] = 'display_data';\n",
              "          await google.colab.output.renderOutput(dataTable, element);\n",
              "          const docLink = document.createElement('div');\n",
              "          docLink.innerHTML = docLinkHtml;\n",
              "          element.appendChild(docLink);\n",
              "        }\n",
              "      </script>\n",
              "    </div>\n",
              "  </div>\n",
              "  "
            ]
          },
          "metadata": {},
          "execution_count": 9
        }
      ]
    },
    {
      "cell_type": "markdown",
      "source": [
        "Checking for Missing Data"
      ],
      "metadata": {
        "id": "-e3w-4jpzDlm"
      }
    },
    {
      "cell_type": "code",
      "source": [
        "pd.set_option('display.max_rows',None)\n",
        "galaxy.isna().sum()"
      ],
      "metadata": {
        "id": "Cv8_9T8QzFea",
        "colab": {
          "base_uri": "https://localhost:8080/"
        },
        "outputId": "7922fa46-ab6f-47f8-a7cf-3ef5f310081e"
      },
      "execution_count": 10,
      "outputs": [
        {
          "output_type": "execute_result",
          "data": {
            "text/plain": [
              "ID                                                                                            0\n",
              "galactic year                                                                                 0\n",
              "galaxy                                                                                        0\n",
              "existence expectancy index                                                                    1\n",
              "existence expectancy at birth                                                                 1\n",
              "Gross income per capita                                                                      28\n",
              "Income Index                                                                                 28\n",
              "Expected years of education (galactic years)                                                129\n",
              "Mean years of education (galactic years)                                                    355\n",
              "Intergalactic Development Index (IDI)                                                       381\n",
              "Education Index                                                                             381\n",
              "Intergalactic Development Index (IDI), Rank                                                 419\n",
              "Population using at least basic drinking-water services (%)                                1811\n",
              "Population using at least basic sanitation services (%)                                    1815\n",
              "Gross capital formation (% of GGP)                                                         2228\n",
              "Population, total (millions)                                                               2404\n",
              "Population, urban (%)                                                                      2404\n",
              "Mortality rate, under-five (per 1,000 live births)                                         2404\n",
              "Mortality rate, infant (per 1,000 live births)                                             2416\n",
              "Old age dependency ratio (old age (65 and older) per 100 creatures (ages 15-64))           2409\n",
              "Population, ages 15â€“64 (millions)                                                        2409\n",
              "Population, ages 65 and older (millions)                                                   2409\n",
              "Life expectancy at birth, male (galactic years)                                            2409\n",
              "Life expectancy at birth, female (galactic years)                                          2409\n",
              "Population, under age 5 (millions)                                                         2409\n",
              "Young age (0-14) dependency ratio (per 100 creatures ages 15-64)                           2409\n",
              "Adolescent birth rate (births per 1,000 female creatures ages 15-19)                       2421\n",
              "Total unemployment rate (female to male ratio)                                             2435\n",
              "Vulnerable employment (% of total employment)                                              2435\n",
              "Unemployment, total (% of labour force)                                                    2435\n",
              "Employment in agriculture (% of total employment)                                          2435\n",
              "Labour force participation rate (% ages 15 and older)                                      2432\n",
              "Labour force participation rate (% ages 15 and older), female                              2432\n",
              "Employment in services (% of total employment)                                             2435\n",
              "Labour force participation rate (% ages 15 and older), male                                2432\n",
              "Employment to population ratio (% ages 15 and older)                                       2435\n",
              "Jungle area (% of total land area)                                                         2434\n",
              "Share of employment in nonagriculture, female (% of total employment in nonagriculture)    2435\n",
              "Youth unemployment rate (female to male ratio)                                             2436\n",
              "Unemployment, youth (% ages 15â€“24)                                                       2436\n",
              "Mortality rate, female grown up (per 1,000 people)                                         2409\n",
              "Mortality rate, male grown up (per 1,000 people)                                           2409\n",
              "Infants lacking immunization, red hot disease (% of one-galactic year-olds)                2454\n",
              "Infants lacking immunization, Combination Vaccine (% of one-galactic year-olds)            2454\n",
              "Gross galactic product (GGP) per capita                                                    2464\n",
              "Gross galactic product (GGP), total                                                        2464\n",
              "Outer Galaxies direct investment, net inflows (% of GGP)                                   2496\n",
              "Exports and imports (% of GGP)                                                             2504\n",
              "Share of seats in senate (% held by female)                                                2525\n",
              "Natural resource depletion                                                                 2518\n",
              "Mean years of education, female (galactic years)                                           2506\n",
              "Mean years of education, male (galactic years)                                             2508\n",
              "Expected years of education, female (galactic years)                                       2542\n",
              "Expected years of education, male (galactic years)                                         2543\n",
              "Maternal mortality ratio (deaths per 100,000 live births)                                  2421\n",
              "Renewable energy consumption (% of total final energy consumption)                         2438\n",
              "Estimated gross galactic income per capita, male                                           2612\n",
              "Estimated gross galactic income per capita, female                                         2612\n",
              "Rural population with access to electricity (%)                                            2640\n",
              "Domestic credit provided by financial sector (% of GGP)                                    2557\n",
              "Population with at least some secondary education, female (% ages 25 and older)            2523\n",
              "Population with at least some secondary education, male (% ages 25 and older)              2523\n",
              "Gross fixed capital formation (% of GGP)                                                   2540\n",
              "Remittances, inflows (% of GGP)                                                            2596\n",
              "Population with at least some secondary education (% ages 25 and older)                    2546\n",
              "Intergalactic inbound tourists (thousands)                                                 2638\n",
              "Gross enrolment ratio, primary (% of primary under-age population)                         2536\n",
              "Respiratory disease incidence (per 100,000 people)                                         2776\n",
              "Interstellar phone subscriptions (per 100 people)                                          2780\n",
              "Interstellar Data Net users, total (% of population)                                       2788\n",
              "Current health expenditure (% of GGP)                                                      2789\n",
              "Intergalactic Development Index (IDI), female                                              2708\n",
              "Intergalactic Development Index (IDI), male                                                2709\n",
              "Gender Development Index (GDI)                                                             2710\n",
              "Intergalactic Development Index (IDI), female, Rank                                        2718\n",
              "Intergalactic Development Index (IDI), male, Rank                                          2719\n",
              "Adjusted net savings                                                                       2654\n",
              "Creature Immunodeficiency Disease prevalence, adult (% ages 15-49), total                  2581\n",
              "Private galaxy capital flows (% of GGP)                                                    2718\n",
              "Gender Inequality Index (GII)                                                              2740\n",
              "Well-Being Index                                                                              0\n",
              "dtype: int64"
            ]
          },
          "metadata": {},
          "execution_count": 10
        }
      ]
    },
    {
      "cell_type": "markdown",
      "source": [
        "Galaxy datasaet has 3,098 rows of data. If the column has >1500 values missing it will be dropped(deleted)."
      ],
      "metadata": {
        "id": "hNWy6QNd0qpL"
      }
    },
    {
      "cell_type": "code",
      "source": [
        "original_features = list(galaxy.columns)\n",
        "original_features\n",
        "len(original_features)"
      ],
      "metadata": {
        "id": "2OBTZQ912qMU",
        "colab": {
          "base_uri": "https://localhost:8080/"
        },
        "outputId": "1e22fca4-f5c3-4ecb-96a3-0253e9d23b76"
      },
      "execution_count": 11,
      "outputs": [
        {
          "output_type": "execute_result",
          "data": {
            "text/plain": [
              "81"
            ]
          },
          "metadata": {},
          "execution_count": 11
        }
      ]
    },
    {
      "cell_type": "code",
      "source": [
        "features_with_missing_values = list(galaxy.columns[galaxy.isna().any()])\n",
        "features_with_missing_values\n",
        "len(features_with_missing_values)"
      ],
      "metadata": {
        "id": "Kr7AgXny22n9",
        "colab": {
          "base_uri": "https://localhost:8080/"
        },
        "outputId": "0c2154a1-c5ac-4f3c-c5fd-d4d4c88635b0"
      },
      "execution_count": 12,
      "outputs": [
        {
          "output_type": "execute_result",
          "data": {
            "text/plain": [
              "77"
            ]
          },
          "metadata": {},
          "execution_count": 12
        }
      ]
    },
    {
      "cell_type": "code",
      "source": [
        "len(galaxy)"
      ],
      "metadata": {
        "id": "-2IEORN73D7V",
        "colab": {
          "base_uri": "https://localhost:8080/"
        },
        "outputId": "1607d3ed-4000-49de-f6d9-116c8287b0f1"
      },
      "execution_count": 13,
      "outputs": [
        {
          "output_type": "execute_result",
          "data": {
            "text/plain": [
              "3097"
            ]
          },
          "metadata": {},
          "execution_count": 13
        }
      ]
    },
    {
      "cell_type": "code",
      "source": [
        "for feature in features_with_missing_values:\n",
        "  print(feature,' ',(galaxy[feature].isna().sum())/len(galaxy)*100)"
      ],
      "metadata": {
        "id": "QZq4PPXI3KN6",
        "colab": {
          "base_uri": "https://localhost:8080/"
        },
        "outputId": "4749da8a-1faa-4f48-8edb-80a8a8acea6f"
      },
      "execution_count": 14,
      "outputs": [
        {
          "output_type": "stream",
          "name": "stdout",
          "text": [
            "existence expectancy index   0.03228931223764934\n",
            "existence expectancy at birth   0.03228931223764934\n",
            "Gross income per capita   0.9041007426541814\n",
            "Income Index   0.9041007426541814\n",
            "Expected years of education (galactic years)   4.165321278656765\n",
            "Mean years of education (galactic years)   11.462705844365514\n",
            "Intergalactic Development Index (IDI)   12.302227962544396\n",
            "Education Index   12.302227962544396\n",
            "Intergalactic Development Index (IDI), Rank   13.529221827575071\n",
            "Population using at least basic drinking-water services (%)   58.475944462382955\n",
            "Population using at least basic sanitation services (%)   58.60510171133355\n",
            "Gross capital formation (% of GGP)   71.94058766548272\n",
            "Population, total (millions)   77.62350661930901\n",
            "Population, urban (%)   77.62350661930901\n",
            "Mortality rate, under-five (per 1,000 live births)   77.62350661930901\n",
            "Mortality rate, infant (per 1,000 live births)   78.0109783661608\n",
            "Old age dependency ratio (old age (65 and older) per 100 creatures (ages 15-64))   77.78495318049725\n",
            "Population, ages 15â€“64 (millions)   77.78495318049725\n",
            "Population, ages 65 and older (millions)   77.78495318049725\n",
            "Life expectancy at birth, male (galactic years)   77.78495318049725\n",
            "Life expectancy at birth, female (galactic years)   77.78495318049725\n",
            "Population, under age 5 (millions)   77.78495318049725\n",
            "Young age (0-14) dependency ratio (per 100 creatures ages 15-64)   77.78495318049725\n",
            "Adolescent birth rate (births per 1,000 female creatures ages 15-19)   78.17242492734906\n",
            "Total unemployment rate (female to male ratio)   78.62447529867613\n",
            "Vulnerable employment (% of total employment)   78.62447529867613\n",
            "Unemployment, total (% of labour force)   78.62447529867613\n",
            "Employment in agriculture (% of total employment)   78.62447529867613\n",
            "Labour force participation rate (% ages 15 and older)   78.52760736196319\n",
            "Labour force participation rate (% ages 15 and older), female   78.52760736196319\n",
            "Employment in services (% of total employment)   78.62447529867613\n",
            "Labour force participation rate (% ages 15 and older), male   78.52760736196319\n",
            "Employment to population ratio (% ages 15 and older)   78.62447529867613\n",
            "Jungle area (% of total land area)   78.5921859864385\n",
            "Share of employment in nonagriculture, female (% of total employment in nonagriculture)   78.62447529867613\n",
            "Youth unemployment rate (female to male ratio)   78.65676461091378\n",
            "Unemployment, youth (% ages 15â€“24)   78.65676461091378\n",
            "Mortality rate, female grown up (per 1,000 people)   77.78495318049725\n",
            "Mortality rate, male grown up (per 1,000 people)   77.78495318049725\n",
            "Infants lacking immunization, red hot disease (% of one-galactic year-olds)   79.23797223119148\n",
            "Infants lacking immunization, Combination Vaccine (% of one-galactic year-olds)   79.23797223119148\n",
            "Gross galactic product (GGP) per capita   79.56086535356796\n",
            "Gross galactic product (GGP), total   79.56086535356796\n",
            "Outer Galaxies direct investment, net inflows (% of GGP)   80.59412334517275\n",
            "Exports and imports (% of GGP)   80.85243784307394\n",
            "Share of seats in senate (% held by female)   81.53051340006458\n",
            "Natural resource depletion   81.30448821440103\n",
            "Mean years of education, female (galactic years)   80.91701646754925\n",
            "Mean years of education, male (galactic years)   80.98159509202453\n",
            "Expected years of education, female (galactic years)   82.07943170810462\n",
            "Expected years of education, male (galactic years)   82.11172102034226\n",
            "Maternal mortality ratio (deaths per 100,000 live births)   78.17242492734906\n",
            "Renewable energy consumption (% of total final energy consumption)   78.72134323538909\n",
            "Estimated gross galactic income per capita, male   84.33968356474007\n",
            "Estimated gross galactic income per capita, female   84.33968356474007\n",
            "Rural population with access to electricity (%)   85.24378430739425\n",
            "Domestic credit provided by financial sector (% of GGP)   82.56377139166936\n",
            "Population with at least some secondary education, female (% ages 25 and older)   81.46593477558928\n",
            "Population with at least some secondary education, male (% ages 25 and older)   81.46593477558928\n",
            "Gross fixed capital formation (% of GGP)   82.01485308362932\n",
            "Remittances, inflows (% of GGP)   83.82305456893768\n",
            "Population with at least some secondary education (% ages 25 and older)   82.20858895705521\n",
            "Intergalactic inbound tourists (thousands)   85.17920568291896\n",
            "Gross enrolment ratio, primary (% of primary under-age population)   81.88569583467871\n",
            "Respiratory disease incidence (per 100,000 people)   89.63513077171457\n",
            "Interstellar phone subscriptions (per 100 people)   89.76428802066516\n",
            "Interstellar Data Net users, total (% of population)   90.02260251856636\n",
            "Current health expenditure (% of GGP)   90.05489183080401\n",
            "Intergalactic Development Index (IDI), female   87.43945753955441\n",
            "Intergalactic Development Index (IDI), male   87.47174685179205\n",
            "Gender Development Index (GDI)   87.50403616402971\n",
            "Intergalactic Development Index (IDI), female, Rank   87.7623506619309\n",
            "Intergalactic Development Index (IDI), male, Rank   87.79463997416855\n",
            "Adjusted net savings    85.69583467872134\n",
            "Creature Immunodeficiency Disease prevalence, adult (% ages 15-49), total   83.33871488537295\n",
            "Private galaxy capital flows (% of GGP)   87.7623506619309\n",
            "Gender Inequality Index (GII)   88.47271553115918\n"
          ]
        }
      ]
    },
    {
      "cell_type": "code",
      "source": [
        "galaxy.dropna(axis='columns', thresh = 0.5 * len(galaxy), inplace = True)\n",
        "galaxy.head()"
      ],
      "metadata": {
        "id": "BvyDo5QW3T8m",
        "colab": {
          "base_uri": "https://localhost:8080/",
          "height": 389
        },
        "outputId": "ef992cc8-8e28-4648-fb08-e07c30a177b5"
      },
      "execution_count": 122,
      "outputs": [
        {
          "output_type": "execute_result",
          "data": {
            "text/plain": [
              "      ID  galactic year                       galaxy  \\\n",
              "0  10065        1002001                     Antlia B   \n",
              "1  10087         999000  KKH 11 (ZOAG G135.74-04.53)   \n",
              "2  10141         993012                 Leo IV Dwarf   \n",
              "3  10168         995006                      NGC 185   \n",
              "4  10201         996004                       Grus I   \n",
              "\n",
              "   existence expectancy index  existence expectancy at birth  \\\n",
              "0                    0.624015                      56.397241   \n",
              "1                    0.970048                      80.924094   \n",
              "2                    0.995540                      82.441006   \n",
              "3                    1.004362                      75.635986   \n",
              "4                    1.050627                      83.412540   \n",
              "\n",
              "   Gross income per capita  Income Index  \\\n",
              "0              17649.87156      0.458599   \n",
              "1              11409.94296      0.757218   \n",
              "2              58774.29343      1.032429   \n",
              "3              34960.41911      0.707776   \n",
              "4              17073.45121      0.951402   \n",
              "\n",
              "   Expected years of education (galactic years)  \\\n",
              "0                                      7.857841   \n",
              "1                                     15.869798   \n",
              "2                                     17.545117   \n",
              "3                                     13.578086   \n",
              "4                                     13.518157   \n",
              "\n",
              "   Mean years of education (galactic years)  \\\n",
              "0                                  5.196527   \n",
              "1                                 13.065734   \n",
              "2                                 11.399711   \n",
              "3                                       NaN   \n",
              "4                                 11.749071   \n",
              "\n",
              "   Intergalactic Development Index (IDI)  Education Index  \\\n",
              "0                               0.507534         0.471400   \n",
              "1                               0.807108         0.837559   \n",
              "2                               0.973684         0.890396   \n",
              "3                                    NaN              NaN   \n",
              "4                               0.965452         0.798000   \n",
              "\n",
              "   Intergalactic Development Index (IDI), Rank  Well-Being Index  \n",
              "0                                   247.196654          0.041404  \n",
              "1                                   137.299057          0.098777  \n",
              "2                                    74.709302          0.200747  \n",
              "3                                          NaN          0.067170  \n",
              "4                                   141.210462          0.078351  "
            ],
            "text/html": [
              "\n",
              "  <div id=\"df-f796eeca-c4e9-4c16-9f85-581383ac8dc9\">\n",
              "    <div class=\"colab-df-container\">\n",
              "      <div>\n",
              "<style scoped>\n",
              "    .dataframe tbody tr th:only-of-type {\n",
              "        vertical-align: middle;\n",
              "    }\n",
              "\n",
              "    .dataframe tbody tr th {\n",
              "        vertical-align: top;\n",
              "    }\n",
              "\n",
              "    .dataframe thead th {\n",
              "        text-align: right;\n",
              "    }\n",
              "</style>\n",
              "<table border=\"1\" class=\"dataframe\">\n",
              "  <thead>\n",
              "    <tr style=\"text-align: right;\">\n",
              "      <th></th>\n",
              "      <th>ID</th>\n",
              "      <th>galactic year</th>\n",
              "      <th>galaxy</th>\n",
              "      <th>existence expectancy index</th>\n",
              "      <th>existence expectancy at birth</th>\n",
              "      <th>Gross income per capita</th>\n",
              "      <th>Income Index</th>\n",
              "      <th>Expected years of education (galactic years)</th>\n",
              "      <th>Mean years of education (galactic years)</th>\n",
              "      <th>Intergalactic Development Index (IDI)</th>\n",
              "      <th>Education Index</th>\n",
              "      <th>Intergalactic Development Index (IDI), Rank</th>\n",
              "      <th>Well-Being Index</th>\n",
              "    </tr>\n",
              "  </thead>\n",
              "  <tbody>\n",
              "    <tr>\n",
              "      <th>0</th>\n",
              "      <td>10065</td>\n",
              "      <td>1002001</td>\n",
              "      <td>Antlia B</td>\n",
              "      <td>0.624015</td>\n",
              "      <td>56.397241</td>\n",
              "      <td>17649.87156</td>\n",
              "      <td>0.458599</td>\n",
              "      <td>7.857841</td>\n",
              "      <td>5.196527</td>\n",
              "      <td>0.507534</td>\n",
              "      <td>0.471400</td>\n",
              "      <td>247.196654</td>\n",
              "      <td>0.041404</td>\n",
              "    </tr>\n",
              "    <tr>\n",
              "      <th>1</th>\n",
              "      <td>10087</td>\n",
              "      <td>999000</td>\n",
              "      <td>KKH 11 (ZOAG G135.74-04.53)</td>\n",
              "      <td>0.970048</td>\n",
              "      <td>80.924094</td>\n",
              "      <td>11409.94296</td>\n",
              "      <td>0.757218</td>\n",
              "      <td>15.869798</td>\n",
              "      <td>13.065734</td>\n",
              "      <td>0.807108</td>\n",
              "      <td>0.837559</td>\n",
              "      <td>137.299057</td>\n",
              "      <td>0.098777</td>\n",
              "    </tr>\n",
              "    <tr>\n",
              "      <th>2</th>\n",
              "      <td>10141</td>\n",
              "      <td>993012</td>\n",
              "      <td>Leo IV Dwarf</td>\n",
              "      <td>0.995540</td>\n",
              "      <td>82.441006</td>\n",
              "      <td>58774.29343</td>\n",
              "      <td>1.032429</td>\n",
              "      <td>17.545117</td>\n",
              "      <td>11.399711</td>\n",
              "      <td>0.973684</td>\n",
              "      <td>0.890396</td>\n",
              "      <td>74.709302</td>\n",
              "      <td>0.200747</td>\n",
              "    </tr>\n",
              "    <tr>\n",
              "      <th>3</th>\n",
              "      <td>10168</td>\n",
              "      <td>995006</td>\n",
              "      <td>NGC 185</td>\n",
              "      <td>1.004362</td>\n",
              "      <td>75.635986</td>\n",
              "      <td>34960.41911</td>\n",
              "      <td>0.707776</td>\n",
              "      <td>13.578086</td>\n",
              "      <td>NaN</td>\n",
              "      <td>NaN</td>\n",
              "      <td>NaN</td>\n",
              "      <td>NaN</td>\n",
              "      <td>0.067170</td>\n",
              "    </tr>\n",
              "    <tr>\n",
              "      <th>4</th>\n",
              "      <td>10201</td>\n",
              "      <td>996004</td>\n",
              "      <td>Grus I</td>\n",
              "      <td>1.050627</td>\n",
              "      <td>83.412540</td>\n",
              "      <td>17073.45121</td>\n",
              "      <td>0.951402</td>\n",
              "      <td>13.518157</td>\n",
              "      <td>11.749071</td>\n",
              "      <td>0.965452</td>\n",
              "      <td>0.798000</td>\n",
              "      <td>141.210462</td>\n",
              "      <td>0.078351</td>\n",
              "    </tr>\n",
              "  </tbody>\n",
              "</table>\n",
              "</div>\n",
              "      <button class=\"colab-df-convert\" onclick=\"convertToInteractive('df-f796eeca-c4e9-4c16-9f85-581383ac8dc9')\"\n",
              "              title=\"Convert this dataframe to an interactive table.\"\n",
              "              style=\"display:none;\">\n",
              "        \n",
              "  <svg xmlns=\"http://www.w3.org/2000/svg\" height=\"24px\"viewBox=\"0 0 24 24\"\n",
              "       width=\"24px\">\n",
              "    <path d=\"M0 0h24v24H0V0z\" fill=\"none\"/>\n",
              "    <path d=\"M18.56 5.44l.94 2.06.94-2.06 2.06-.94-2.06-.94-.94-2.06-.94 2.06-2.06.94zm-11 1L8.5 8.5l.94-2.06 2.06-.94-2.06-.94L8.5 2.5l-.94 2.06-2.06.94zm10 10l.94 2.06.94-2.06 2.06-.94-2.06-.94-.94-2.06-.94 2.06-2.06.94z\"/><path d=\"M17.41 7.96l-1.37-1.37c-.4-.4-.92-.59-1.43-.59-.52 0-1.04.2-1.43.59L10.3 9.45l-7.72 7.72c-.78.78-.78 2.05 0 2.83L4 21.41c.39.39.9.59 1.41.59.51 0 1.02-.2 1.41-.59l7.78-7.78 2.81-2.81c.8-.78.8-2.07 0-2.86zM5.41 20L4 18.59l7.72-7.72 1.47 1.35L5.41 20z\"/>\n",
              "  </svg>\n",
              "      </button>\n",
              "      \n",
              "  <style>\n",
              "    .colab-df-container {\n",
              "      display:flex;\n",
              "      flex-wrap:wrap;\n",
              "      gap: 12px;\n",
              "    }\n",
              "\n",
              "    .colab-df-convert {\n",
              "      background-color: #E8F0FE;\n",
              "      border: none;\n",
              "      border-radius: 50%;\n",
              "      cursor: pointer;\n",
              "      display: none;\n",
              "      fill: #1967D2;\n",
              "      height: 32px;\n",
              "      padding: 0 0 0 0;\n",
              "      width: 32px;\n",
              "    }\n",
              "\n",
              "    .colab-df-convert:hover {\n",
              "      background-color: #E2EBFA;\n",
              "      box-shadow: 0px 1px 2px rgba(60, 64, 67, 0.3), 0px 1px 3px 1px rgba(60, 64, 67, 0.15);\n",
              "      fill: #174EA6;\n",
              "    }\n",
              "\n",
              "    [theme=dark] .colab-df-convert {\n",
              "      background-color: #3B4455;\n",
              "      fill: #D2E3FC;\n",
              "    }\n",
              "\n",
              "    [theme=dark] .colab-df-convert:hover {\n",
              "      background-color: #434B5C;\n",
              "      box-shadow: 0px 1px 3px 1px rgba(0, 0, 0, 0.15);\n",
              "      filter: drop-shadow(0px 1px 2px rgba(0, 0, 0, 0.3));\n",
              "      fill: #FFFFFF;\n",
              "    }\n",
              "  </style>\n",
              "\n",
              "      <script>\n",
              "        const buttonEl =\n",
              "          document.querySelector('#df-f796eeca-c4e9-4c16-9f85-581383ac8dc9 button.colab-df-convert');\n",
              "        buttonEl.style.display =\n",
              "          google.colab.kernel.accessAllowed ? 'block' : 'none';\n",
              "\n",
              "        async function convertToInteractive(key) {\n",
              "          const element = document.querySelector('#df-f796eeca-c4e9-4c16-9f85-581383ac8dc9');\n",
              "          const dataTable =\n",
              "            await google.colab.kernel.invokeFunction('convertToInteractive',\n",
              "                                                     [key], {});\n",
              "          if (!dataTable) return;\n",
              "\n",
              "          const docLinkHtml = 'Like what you see? Visit the ' +\n",
              "            '<a target=\"_blank\" href=https://colab.research.google.com/notebooks/data_table.ipynb>data table notebook</a>'\n",
              "            + ' to learn more about interactive tables.';\n",
              "          element.innerHTML = '';\n",
              "          dataTable['output_type'] = 'display_data';\n",
              "          await google.colab.output.renderOutput(dataTable, element);\n",
              "          const docLink = document.createElement('div');\n",
              "          docLink.innerHTML = docLinkHtml;\n",
              "          element.appendChild(docLink);\n",
              "        }\n",
              "      </script>\n",
              "    </div>\n",
              "  </div>\n",
              "  "
            ]
          },
          "metadata": {},
          "execution_count": 122
        }
      ]
    },
    {
      "cell_type": "code",
      "source": [
        "galaxy.info()"
      ],
      "metadata": {
        "id": "bTCPQk373wHM",
        "colab": {
          "base_uri": "https://localhost:8080/"
        },
        "outputId": "541738d7-8d7e-44c1-dcf2-2f7f34cfb7af"
      },
      "execution_count": 16,
      "outputs": [
        {
          "output_type": "stream",
          "name": "stdout",
          "text": [
            "<class 'pandas.core.frame.DataFrame'>\n",
            "RangeIndex: 3097 entries, 0 to 3096\n",
            "Data columns (total 13 columns):\n",
            " #   Column                                        Non-Null Count  Dtype  \n",
            "---  ------                                        --------------  -----  \n",
            " 0   ID                                            3097 non-null   int64  \n",
            " 1   galactic year                                 3097 non-null   int64  \n",
            " 2   galaxy                                        3097 non-null   int16  \n",
            " 3   existence expectancy index                    3096 non-null   float64\n",
            " 4   existence expectancy at birth                 3096 non-null   float64\n",
            " 5   Gross income per capita                       3069 non-null   float64\n",
            " 6   Income Index                                  3069 non-null   float64\n",
            " 7   Expected years of education (galactic years)  2968 non-null   float64\n",
            " 8   Mean years of education (galactic years)      2742 non-null   float64\n",
            " 9   Intergalactic Development Index (IDI)         2716 non-null   float64\n",
            " 10  Education Index                               2716 non-null   float64\n",
            " 11  Intergalactic Development Index (IDI), Rank   2678 non-null   float64\n",
            " 12  Well-Being Index                              3097 non-null   float64\n",
            "dtypes: float64(10), int16(1), int64(2)\n",
            "memory usage: 296.5 KB\n"
          ]
        }
      ]
    },
    {
      "cell_type": "markdown",
      "source": [
        "For columns with missing values\n",
        "\n",
        "1.   <100 will use the forward fill\n",
        "2.   101 > x < 500 will use mean fill / median fill\n",
        "\n"
      ],
      "metadata": {
        "id": "iUhOkQb_9OuI"
      }
    },
    {
      "cell_type": "code",
      "source": [
        "mean_fill = ['Expected years of education (galactic years)','Mean years of education (galactic years)','Intergalactic Development Index (IDI)','Education Index','Intergalactic Development Index (IDI), Rank']\n",
        "print(len(mean_fill))"
      ],
      "metadata": {
        "id": "2CB9eZO14Kz3",
        "colab": {
          "base_uri": "https://localhost:8080/"
        },
        "outputId": "6dbb19c4-7a22-4ec7-9fd8-9f6c37ad4c9c"
      },
      "execution_count": 17,
      "outputs": [
        {
          "output_type": "stream",
          "name": "stdout",
          "text": [
            "5\n"
          ]
        }
      ]
    },
    {
      "cell_type": "code",
      "source": [
        "ffill =['existence expectancy index','existence expectancy at birth','Gross income per capita','Income Index']\n",
        "print(len(ffill))"
      ],
      "metadata": {
        "id": "1id1NZ8rA6fY",
        "colab": {
          "base_uri": "https://localhost:8080/"
        },
        "outputId": "3e7a6841-709b-415d-aff8-4768c0fd9181"
      },
      "execution_count": 18,
      "outputs": [
        {
          "output_type": "stream",
          "name": "stdout",
          "text": [
            "4\n"
          ]
        }
      ]
    },
    {
      "cell_type": "code",
      "source": [
        "for feature in mean_fill:\n",
        "    galaxy[feature].fillna(galaxy[feature].mean(),inplace=True)"
      ],
      "metadata": {
        "id": "5TMzVBqeBZAB"
      },
      "execution_count": 19,
      "outputs": []
    },
    {
      "cell_type": "code",
      "source": [
        "for feature in ffill:\n",
        "    galaxy[feature].fillna(method='ffill',inplace=True)"
      ],
      "metadata": {
        "id": "EQI5xJInJ-mQ"
      },
      "execution_count": 20,
      "outputs": []
    },
    {
      "cell_type": "code",
      "source": [
        "galaxy.isna().any()"
      ],
      "metadata": {
        "id": "IdMfD3gxGb0p",
        "colab": {
          "base_uri": "https://localhost:8080/"
        },
        "outputId": "00a13c0f-7013-4234-a8a4-aff83cf75b5e"
      },
      "execution_count": 21,
      "outputs": [
        {
          "output_type": "execute_result",
          "data": {
            "text/plain": [
              "ID                                              False\n",
              "galactic year                                   False\n",
              "galaxy                                          False\n",
              "existence expectancy index                      False\n",
              "existence expectancy at birth                   False\n",
              "Gross income per capita                         False\n",
              "Income Index                                    False\n",
              "Expected years of education (galactic years)    False\n",
              "Mean years of education (galactic years)        False\n",
              "Intergalactic Development Index (IDI)           False\n",
              "Education Index                                 False\n",
              "Intergalactic Development Index (IDI), Rank     False\n",
              "Well-Being Index                                False\n",
              "dtype: bool"
            ]
          },
          "metadata": {},
          "execution_count": 21
        }
      ]
    },
    {
      "cell_type": "code",
      "source": [
        "galaxy.info()"
      ],
      "metadata": {
        "id": "6fD3sk42K73n",
        "colab": {
          "base_uri": "https://localhost:8080/"
        },
        "outputId": "74fe12d2-ae3c-4fc9-c207-29e6ee2e7e66"
      },
      "execution_count": 22,
      "outputs": [
        {
          "output_type": "stream",
          "name": "stdout",
          "text": [
            "<class 'pandas.core.frame.DataFrame'>\n",
            "RangeIndex: 3097 entries, 0 to 3096\n",
            "Data columns (total 13 columns):\n",
            " #   Column                                        Non-Null Count  Dtype  \n",
            "---  ------                                        --------------  -----  \n",
            " 0   ID                                            3097 non-null   int64  \n",
            " 1   galactic year                                 3097 non-null   int64  \n",
            " 2   galaxy                                        3097 non-null   int16  \n",
            " 3   existence expectancy index                    3097 non-null   float64\n",
            " 4   existence expectancy at birth                 3097 non-null   float64\n",
            " 5   Gross income per capita                       3097 non-null   float64\n",
            " 6   Income Index                                  3097 non-null   float64\n",
            " 7   Expected years of education (galactic years)  3097 non-null   float64\n",
            " 8   Mean years of education (galactic years)      3097 non-null   float64\n",
            " 9   Intergalactic Development Index (IDI)         3097 non-null   float64\n",
            " 10  Education Index                               3097 non-null   float64\n",
            " 11  Intergalactic Development Index (IDI), Rank   3097 non-null   float64\n",
            " 12  Well-Being Index                              3097 non-null   float64\n",
            "dtypes: float64(10), int16(1), int64(2)\n",
            "memory usage: 296.5 KB\n"
          ]
        }
      ]
    },
    {
      "cell_type": "markdown",
      "source": [
        "# 3. Building our model, optimizing our hyperparameters and training our data"
      ],
      "metadata": {
        "id": "3dSA-XRYLUTm"
      }
    },
    {
      "cell_type": "markdown",
      "source": [
        "Feature Extraction using Lasso"
      ],
      "metadata": {
        "id": "BDNb4Kj4zJz0"
      }
    },
    {
      "cell_type": "code",
      "source": [
        "y=galaxy['Well-Being Index']\n",
        "x=galaxy.drop('Well-Being Index',axis=1)"
      ],
      "metadata": {
        "id": "MhPAorU_dloX"
      },
      "execution_count": 91,
      "outputs": []
    },
    {
      "cell_type": "code",
      "source": [
        "from sklearn.linear_model import Lasso, LassoCV"
      ],
      "metadata": {
        "id": "0nGDTVIserlh"
      },
      "execution_count": 92,
      "outputs": []
    },
    {
      "cell_type": "code",
      "source": [
        "regressor = LassoCV()\n",
        "regressor.fit(x,y)"
      ],
      "metadata": {
        "colab": {
          "base_uri": "https://localhost:8080/"
        },
        "id": "rblPhRG-effA",
        "outputId": "61ebd7b3-066e-4268-d480-171ec92d81d3"
      },
      "execution_count": 93,
      "outputs": [
        {
          "output_type": "execute_result",
          "data": {
            "text/plain": [
              "LassoCV()"
            ]
          },
          "metadata": {},
          "execution_count": 93
        }
      ]
    },
    {
      "cell_type": "code",
      "source": [
        "coef_col = (regressor.coef_)\n",
        "selected = x.columns[(coef_col != 0 )]\n",
        "selected"
      ],
      "metadata": {
        "colab": {
          "base_uri": "https://localhost:8080/"
        },
        "id": "fhu7QF5Me4yy",
        "outputId": "20467076-858a-4f7b-8bfc-5586a3226ced"
      },
      "execution_count": 94,
      "outputs": [
        {
          "output_type": "execute_result",
          "data": {
            "text/plain": [
              "Index(['ID', 'galactic year', 'Gross income per capita',\n",
              "       'Intergalactic Development Index (IDI), Rank'],\n",
              "      dtype='object')"
            ]
          },
          "metadata": {},
          "execution_count": 94
        }
      ]
    },
    {
      "cell_type": "code",
      "source": [
        "rejected = x.columns[(coef_col == 0 )]\n",
        "rejected"
      ],
      "metadata": {
        "colab": {
          "base_uri": "https://localhost:8080/"
        },
        "id": "qBOCqGxwfS3n",
        "outputId": "a291a27d-a2a8-4052-926f-7760bdd7bccd"
      },
      "execution_count": 95,
      "outputs": [
        {
          "output_type": "execute_result",
          "data": {
            "text/plain": [
              "Index(['galaxy', 'existence expectancy index', 'existence expectancy at birth',\n",
              "       'Income Index', 'Expected years of education (galactic years)',\n",
              "       'Mean years of education (galactic years)',\n",
              "       'Intergalactic Development Index (IDI)', 'Education Index'],\n",
              "      dtype='object')"
            ]
          },
          "metadata": {},
          "execution_count": 95
        }
      ]
    },
    {
      "cell_type": "code",
      "source": [
        "X = galaxy.drop(rejected, axis=1)"
      ],
      "metadata": {
        "id": "Q5zw8VewfgCp"
      },
      "execution_count": 96,
      "outputs": []
    },
    {
      "cell_type": "code",
      "source": [
        "scaler = StandardScaler()\n",
        "X=scaler.fit_transform(X)"
      ],
      "metadata": {
        "id": "etiZ5BnIWC9Q"
      },
      "execution_count": 97,
      "outputs": []
    },
    {
      "cell_type": "markdown",
      "source": [
        "Splitting data"
      ],
      "metadata": {
        "id": "Ht6-GSZktet3"
      }
    },
    {
      "cell_type": "code",
      "source": [
        "X_train, X_test, y_train, y_test = train_test_split(X, y, test_size=0.33, random_state=42)\n"
      ],
      "metadata": {
        "id": "bYJk8aiNU5wL"
      },
      "execution_count": 98,
      "outputs": []
    },
    {
      "cell_type": "code",
      "source": [
        "print(X_train.shape)"
      ],
      "metadata": {
        "colab": {
          "base_uri": "https://localhost:8080/"
        },
        "id": "f0uUGFxgtiLA",
        "outputId": "7304b918-c6b0-4449-dc18-c24eb31f4b9e"
      },
      "execution_count": 99,
      "outputs": [
        {
          "output_type": "stream",
          "name": "stdout",
          "text": [
            "(2074, 5)\n"
          ]
        }
      ]
    },
    {
      "cell_type": "code",
      "source": [
        "print(y_train.shape)"
      ],
      "metadata": {
        "colab": {
          "base_uri": "https://localhost:8080/"
        },
        "id": "yaSIfWsZtkiO",
        "outputId": "8704d84e-85b9-46ac-8931-6ce3fba08910"
      },
      "execution_count": 100,
      "outputs": [
        {
          "output_type": "stream",
          "name": "stdout",
          "text": [
            "(2074,)\n"
          ]
        }
      ]
    },
    {
      "cell_type": "code",
      "source": [
        "print(X_test.shape)"
      ],
      "metadata": {
        "colab": {
          "base_uri": "https://localhost:8080/"
        },
        "id": "OtUI8OQLtnYI",
        "outputId": "f47b0473-9459-48c5-db49-2088b41c4da1"
      },
      "execution_count": 101,
      "outputs": [
        {
          "output_type": "stream",
          "name": "stdout",
          "text": [
            "(1023, 5)\n"
          ]
        }
      ]
    },
    {
      "cell_type": "code",
      "source": [
        "print(y_test.shape)"
      ],
      "metadata": {
        "colab": {
          "base_uri": "https://localhost:8080/"
        },
        "id": "XEnFCjCmtp_z",
        "outputId": "9c2a05d1-9b04-4c12-9ef8-785c010ebb8c"
      },
      "execution_count": 102,
      "outputs": [
        {
          "output_type": "stream",
          "name": "stdout",
          "text": [
            "(1023,)\n"
          ]
        }
      ]
    },
    {
      "cell_type": "markdown",
      "source": [
        "Scaling & building the model"
      ],
      "metadata": {
        "id": "mQYvMrMfzOiA"
      }
    },
    {
      "cell_type": "code",
      "source": [
        "pca = PCA(n_components=2)"
      ],
      "metadata": {
        "id": "o7qfspILXdvQ"
      },
      "execution_count": 103,
      "outputs": []
    },
    {
      "cell_type": "code",
      "source": [
        "p_components=pca.fit_transform(X)\n",
        "#combination of fit + tranform\n",
        "#fit - uses the required method - compute mean and standard deviation\n",
        "#transform - apply what youve used for fit "
      ],
      "metadata": {
        "id": "pDTsdRpZXgoc"
      },
      "execution_count": 104,
      "outputs": []
    },
    {
      "cell_type": "code",
      "source": [
        "p_components"
      ],
      "metadata": {
        "id": "ZxnILXFpXitU",
        "colab": {
          "base_uri": "https://localhost:8080/"
        },
        "outputId": "1c936ad5-5037-4e85-c536-716607bac499"
      },
      "execution_count": 105,
      "outputs": [
        {
          "output_type": "execute_result",
          "data": {
            "text/plain": [
              "array([[-2.32030856,  0.06686778],\n",
              "       [-0.46291211, -0.48933901],\n",
              "       [ 2.82783878, -0.92836599],\n",
              "       ...,\n",
              "       [-0.62871614,  3.08789624],\n",
              "       [-2.33555275,  3.22242923],\n",
              "       [-2.17245976,  3.40687663]])"
            ]
          },
          "metadata": {},
          "execution_count": 105
        }
      ]
    },
    {
      "cell_type": "code",
      "source": [
        "pca.explained_variance_ratio_"
      ],
      "metadata": {
        "id": "sBhLl7fXXlaf",
        "colab": {
          "base_uri": "https://localhost:8080/"
        },
        "outputId": "a630182f-6a97-4b01-fe4a-1ca9d9103769"
      },
      "execution_count": 106,
      "outputs": [
        {
          "output_type": "execute_result",
          "data": {
            "text/plain": [
              "array([0.44103827, 0.33180334])"
            ]
          },
          "metadata": {},
          "execution_count": 106
        }
      ]
    },
    {
      "cell_type": "markdown",
      "source": [
        "Training our model(Regression)"
      ],
      "metadata": {
        "id": "QjQekcRgs89K"
      }
    },
    {
      "cell_type": "code",
      "source": [
        "regressor = LassoCV()"
      ],
      "metadata": {
        "id": "eU0H2f_6tAYM"
      },
      "execution_count": 107,
      "outputs": []
    },
    {
      "cell_type": "code",
      "source": [
        "regressor.fit(p_components,y)"
      ],
      "metadata": {
        "colab": {
          "base_uri": "https://localhost:8080/"
        },
        "id": "S0t5tqhxtOq6",
        "outputId": "d180c588-197f-4b52-d712-e57fc04a0f33"
      },
      "execution_count": 108,
      "outputs": [
        {
          "output_type": "execute_result",
          "data": {
            "text/plain": [
              "LassoCV()"
            ]
          },
          "metadata": {},
          "execution_count": 108
        }
      ]
    },
    {
      "cell_type": "code",
      "source": [
        "regressor.coef_"
      ],
      "metadata": {
        "colab": {
          "base_uri": "https://localhost:8080/"
        },
        "id": "acwSal_JtTDZ",
        "outputId": "4f065236-455f-4e09-d722-52489bd08ec8"
      },
      "execution_count": 109,
      "outputs": [
        {
          "output_type": "execute_result",
          "data": {
            "text/plain": [
              "array([0.03219765, 0.00318248])"
            ]
          },
          "metadata": {},
          "execution_count": 109
        }
      ]
    },
    {
      "cell_type": "code",
      "source": [
        "regressor.intercept_"
      ],
      "metadata": {
        "colab": {
          "base_uri": "https://localhost:8080/"
        },
        "id": "Or09iKqktUz2",
        "outputId": "a64dd4aa-4041-4daf-fd4d-03a00fe4c4a0"
      },
      "execution_count": 110,
      "outputs": [
        {
          "output_type": "execute_result",
          "data": {
            "text/plain": [
              "0.0827236270100097"
            ]
          },
          "metadata": {},
          "execution_count": 110
        }
      ]
    },
    {
      "cell_type": "markdown",
      "source": [
        "Model Selection(Linear, Lasso, Ridge, Elastic)"
      ],
      "metadata": {
        "id": "xTiuOfj8uH0D"
      }
    },
    {
      "cell_type": "code",
      "source": [
        "result = {}\n",
        "models = {'LinearRegression':linear_model.LinearRegression(),\n",
        "          'Lasso':linear_model.Lasso(),\n",
        "          'Ridge':linear_model.Ridge(),\n",
        "          'ElasticNet':linear_model.ElasticNet()}\n",
        "\n",
        "for i in models:\n",
        "    models[i].fit(X_train,y_train)\n",
        "    accuracy = models[i].score(X_test,y_test)\n",
        "    result[i]=[accuracy]\n",
        "pd.DataFrame(result)"
      ],
      "metadata": {
        "colab": {
          "base_uri": "https://localhost:8080/",
          "height": 81
        },
        "id": "UicCNpqiuHcJ",
        "outputId": "9d92702a-256a-4e59-e095-b94e1606918d"
      },
      "execution_count": 114,
      "outputs": [
        {
          "output_type": "execute_result",
          "data": {
            "text/plain": [
              "   LinearRegression     Lasso  Ridge  ElasticNet\n",
              "0               1.0 -0.000058    1.0   -0.000058"
            ],
            "text/html": [
              "\n",
              "  <div id=\"df-b0d56184-108b-4625-8b27-e6b0f1ac2009\">\n",
              "    <div class=\"colab-df-container\">\n",
              "      <div>\n",
              "<style scoped>\n",
              "    .dataframe tbody tr th:only-of-type {\n",
              "        vertical-align: middle;\n",
              "    }\n",
              "\n",
              "    .dataframe tbody tr th {\n",
              "        vertical-align: top;\n",
              "    }\n",
              "\n",
              "    .dataframe thead th {\n",
              "        text-align: right;\n",
              "    }\n",
              "</style>\n",
              "<table border=\"1\" class=\"dataframe\">\n",
              "  <thead>\n",
              "    <tr style=\"text-align: right;\">\n",
              "      <th></th>\n",
              "      <th>LinearRegression</th>\n",
              "      <th>Lasso</th>\n",
              "      <th>Ridge</th>\n",
              "      <th>ElasticNet</th>\n",
              "    </tr>\n",
              "  </thead>\n",
              "  <tbody>\n",
              "    <tr>\n",
              "      <th>0</th>\n",
              "      <td>1.0</td>\n",
              "      <td>-0.000058</td>\n",
              "      <td>1.0</td>\n",
              "      <td>-0.000058</td>\n",
              "    </tr>\n",
              "  </tbody>\n",
              "</table>\n",
              "</div>\n",
              "      <button class=\"colab-df-convert\" onclick=\"convertToInteractive('df-b0d56184-108b-4625-8b27-e6b0f1ac2009')\"\n",
              "              title=\"Convert this dataframe to an interactive table.\"\n",
              "              style=\"display:none;\">\n",
              "        \n",
              "  <svg xmlns=\"http://www.w3.org/2000/svg\" height=\"24px\"viewBox=\"0 0 24 24\"\n",
              "       width=\"24px\">\n",
              "    <path d=\"M0 0h24v24H0V0z\" fill=\"none\"/>\n",
              "    <path d=\"M18.56 5.44l.94 2.06.94-2.06 2.06-.94-2.06-.94-.94-2.06-.94 2.06-2.06.94zm-11 1L8.5 8.5l.94-2.06 2.06-.94-2.06-.94L8.5 2.5l-.94 2.06-2.06.94zm10 10l.94 2.06.94-2.06 2.06-.94-2.06-.94-.94-2.06-.94 2.06-2.06.94z\"/><path d=\"M17.41 7.96l-1.37-1.37c-.4-.4-.92-.59-1.43-.59-.52 0-1.04.2-1.43.59L10.3 9.45l-7.72 7.72c-.78.78-.78 2.05 0 2.83L4 21.41c.39.39.9.59 1.41.59.51 0 1.02-.2 1.41-.59l7.78-7.78 2.81-2.81c.8-.78.8-2.07 0-2.86zM5.41 20L4 18.59l7.72-7.72 1.47 1.35L5.41 20z\"/>\n",
              "  </svg>\n",
              "      </button>\n",
              "      \n",
              "  <style>\n",
              "    .colab-df-container {\n",
              "      display:flex;\n",
              "      flex-wrap:wrap;\n",
              "      gap: 12px;\n",
              "    }\n",
              "\n",
              "    .colab-df-convert {\n",
              "      background-color: #E8F0FE;\n",
              "      border: none;\n",
              "      border-radius: 50%;\n",
              "      cursor: pointer;\n",
              "      display: none;\n",
              "      fill: #1967D2;\n",
              "      height: 32px;\n",
              "      padding: 0 0 0 0;\n",
              "      width: 32px;\n",
              "    }\n",
              "\n",
              "    .colab-df-convert:hover {\n",
              "      background-color: #E2EBFA;\n",
              "      box-shadow: 0px 1px 2px rgba(60, 64, 67, 0.3), 0px 1px 3px 1px rgba(60, 64, 67, 0.15);\n",
              "      fill: #174EA6;\n",
              "    }\n",
              "\n",
              "    [theme=dark] .colab-df-convert {\n",
              "      background-color: #3B4455;\n",
              "      fill: #D2E3FC;\n",
              "    }\n",
              "\n",
              "    [theme=dark] .colab-df-convert:hover {\n",
              "      background-color: #434B5C;\n",
              "      box-shadow: 0px 1px 3px 1px rgba(0, 0, 0, 0.15);\n",
              "      filter: drop-shadow(0px 1px 2px rgba(0, 0, 0, 0.3));\n",
              "      fill: #FFFFFF;\n",
              "    }\n",
              "  </style>\n",
              "\n",
              "      <script>\n",
              "        const buttonEl =\n",
              "          document.querySelector('#df-b0d56184-108b-4625-8b27-e6b0f1ac2009 button.colab-df-convert');\n",
              "        buttonEl.style.display =\n",
              "          google.colab.kernel.accessAllowed ? 'block' : 'none';\n",
              "\n",
              "        async function convertToInteractive(key) {\n",
              "          const element = document.querySelector('#df-b0d56184-108b-4625-8b27-e6b0f1ac2009');\n",
              "          const dataTable =\n",
              "            await google.colab.kernel.invokeFunction('convertToInteractive',\n",
              "                                                     [key], {});\n",
              "          if (!dataTable) return;\n",
              "\n",
              "          const docLinkHtml = 'Like what you see? Visit the ' +\n",
              "            '<a target=\"_blank\" href=https://colab.research.google.com/notebooks/data_table.ipynb>data table notebook</a>'\n",
              "            + ' to learn more about interactive tables.';\n",
              "          element.innerHTML = '';\n",
              "          dataTable['output_type'] = 'display_data';\n",
              "          await google.colab.output.renderOutput(dataTable, element);\n",
              "          const docLink = document.createElement('div');\n",
              "          docLink.innerHTML = docLinkHtml;\n",
              "          element.appendChild(docLink);\n",
              "        }\n",
              "      </script>\n",
              "    </div>\n",
              "  </div>\n",
              "  "
            ]
          },
          "metadata": {},
          "execution_count": 114
        }
      ]
    },
    {
      "cell_type": "markdown",
      "source": [
        "# Validation\n"
      ],
      "metadata": {
        "id": "SjAGaoVVuoPo"
      }
    },
    {
      "cell_type": "code",
      "source": [
        "from google.colab import files\n",
        "uploaded = files.upload()"
      ],
      "metadata": {
        "colab": {
          "resources": {
            "http://localhost:8080/nbextensions/google.colab/files.js": {
              "data": "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",
              "ok": true,
              "headers": [
                [
                  "content-type",
                  "application/javascript"
                ]
              ],
              "status": 200,
              "status_text": ""
            }
          },
          "base_uri": "https://localhost:8080/",
          "height": 73
        },
        "id": "XqjPhGUhusDA",
        "outputId": "5dd6a0db-724b-4470-c5de-5ec8f802c9df"
      },
      "execution_count": 51,
      "outputs": [
        {
          "output_type": "display_data",
          "data": {
            "text/plain": [
              "<IPython.core.display.HTML object>"
            ],
            "text/html": [
              "\n",
              "     <input type=\"file\" id=\"files-6ab1c702-cbbe-4807-b06d-ea4e7b150cc8\" name=\"files[]\" multiple disabled\n",
              "        style=\"border:none\" />\n",
              "     <output id=\"result-6ab1c702-cbbe-4807-b06d-ea4e7b150cc8\">\n",
              "      Upload widget is only available when the cell has been executed in the\n",
              "      current browser session. Please rerun this cell to enable.\n",
              "      </output>\n",
              "      <script src=\"/nbextensions/google.colab/files.js\"></script> "
            ]
          },
          "metadata": {}
        },
        {
          "output_type": "stream",
          "name": "stdout",
          "text": [
            "Saving Validation.csv to Validation.csv\n"
          ]
        }
      ]
    },
    {
      "cell_type": "markdown",
      "source": [
        "K-Fold Cross Validation"
      ],
      "metadata": {
        "id": "ZFr9u7Znu7l1"
      }
    },
    {
      "cell_type": "code",
      "source": [
        "kfold = KFold(n_splits=4)\n",
        "for i in models:\n",
        "  regressor = models[i]\n",
        "  c_validated = cross_val_score(regressor,X_train,y_train,cv=kfold)  \n",
        "  accuracy = c_validated.mean()\n",
        "  result[i]=[accuracy]\n",
        "pd.DataFrame(result)"
      ],
      "metadata": {
        "colab": {
          "base_uri": "https://localhost:8080/",
          "height": 81
        },
        "id": "WTgbV2JKu3mW",
        "outputId": "7b6a5a2e-11fb-4a29-a6de-4fc6c36e0843"
      },
      "execution_count": 53,
      "outputs": [
        {
          "output_type": "execute_result",
          "data": {
            "text/plain": [
              "   LinearRegression    Lasso     Ridge  ElasticNet\n",
              "0               1.0 -0.00165  0.999999    -0.00165"
            ],
            "text/html": [
              "\n",
              "  <div id=\"df-124b49ab-153b-4d44-b7f5-1113de37d222\">\n",
              "    <div class=\"colab-df-container\">\n",
              "      <div>\n",
              "<style scoped>\n",
              "    .dataframe tbody tr th:only-of-type {\n",
              "        vertical-align: middle;\n",
              "    }\n",
              "\n",
              "    .dataframe tbody tr th {\n",
              "        vertical-align: top;\n",
              "    }\n",
              "\n",
              "    .dataframe thead th {\n",
              "        text-align: right;\n",
              "    }\n",
              "</style>\n",
              "<table border=\"1\" class=\"dataframe\">\n",
              "  <thead>\n",
              "    <tr style=\"text-align: right;\">\n",
              "      <th></th>\n",
              "      <th>LinearRegression</th>\n",
              "      <th>Lasso</th>\n",
              "      <th>Ridge</th>\n",
              "      <th>ElasticNet</th>\n",
              "    </tr>\n",
              "  </thead>\n",
              "  <tbody>\n",
              "    <tr>\n",
              "      <th>0</th>\n",
              "      <td>1.0</td>\n",
              "      <td>-0.00165</td>\n",
              "      <td>0.999999</td>\n",
              "      <td>-0.00165</td>\n",
              "    </tr>\n",
              "  </tbody>\n",
              "</table>\n",
              "</div>\n",
              "      <button class=\"colab-df-convert\" onclick=\"convertToInteractive('df-124b49ab-153b-4d44-b7f5-1113de37d222')\"\n",
              "              title=\"Convert this dataframe to an interactive table.\"\n",
              "              style=\"display:none;\">\n",
              "        \n",
              "  <svg xmlns=\"http://www.w3.org/2000/svg\" height=\"24px\"viewBox=\"0 0 24 24\"\n",
              "       width=\"24px\">\n",
              "    <path d=\"M0 0h24v24H0V0z\" fill=\"none\"/>\n",
              "    <path d=\"M18.56 5.44l.94 2.06.94-2.06 2.06-.94-2.06-.94-.94-2.06-.94 2.06-2.06.94zm-11 1L8.5 8.5l.94-2.06 2.06-.94-2.06-.94L8.5 2.5l-.94 2.06-2.06.94zm10 10l.94 2.06.94-2.06 2.06-.94-2.06-.94-.94-2.06-.94 2.06-2.06.94z\"/><path d=\"M17.41 7.96l-1.37-1.37c-.4-.4-.92-.59-1.43-.59-.52 0-1.04.2-1.43.59L10.3 9.45l-7.72 7.72c-.78.78-.78 2.05 0 2.83L4 21.41c.39.39.9.59 1.41.59.51 0 1.02-.2 1.41-.59l7.78-7.78 2.81-2.81c.8-.78.8-2.07 0-2.86zM5.41 20L4 18.59l7.72-7.72 1.47 1.35L5.41 20z\"/>\n",
              "  </svg>\n",
              "      </button>\n",
              "      \n",
              "  <style>\n",
              "    .colab-df-container {\n",
              "      display:flex;\n",
              "      flex-wrap:wrap;\n",
              "      gap: 12px;\n",
              "    }\n",
              "\n",
              "    .colab-df-convert {\n",
              "      background-color: #E8F0FE;\n",
              "      border: none;\n",
              "      border-radius: 50%;\n",
              "      cursor: pointer;\n",
              "      display: none;\n",
              "      fill: #1967D2;\n",
              "      height: 32px;\n",
              "      padding: 0 0 0 0;\n",
              "      width: 32px;\n",
              "    }\n",
              "\n",
              "    .colab-df-convert:hover {\n",
              "      background-color: #E2EBFA;\n",
              "      box-shadow: 0px 1px 2px rgba(60, 64, 67, 0.3), 0px 1px 3px 1px rgba(60, 64, 67, 0.15);\n",
              "      fill: #174EA6;\n",
              "    }\n",
              "\n",
              "    [theme=dark] .colab-df-convert {\n",
              "      background-color: #3B4455;\n",
              "      fill: #D2E3FC;\n",
              "    }\n",
              "\n",
              "    [theme=dark] .colab-df-convert:hover {\n",
              "      background-color: #434B5C;\n",
              "      box-shadow: 0px 1px 3px 1px rgba(0, 0, 0, 0.15);\n",
              "      filter: drop-shadow(0px 1px 2px rgba(0, 0, 0, 0.3));\n",
              "      fill: #FFFFFF;\n",
              "    }\n",
              "  </style>\n",
              "\n",
              "      <script>\n",
              "        const buttonEl =\n",
              "          document.querySelector('#df-124b49ab-153b-4d44-b7f5-1113de37d222 button.colab-df-convert');\n",
              "        buttonEl.style.display =\n",
              "          google.colab.kernel.accessAllowed ? 'block' : 'none';\n",
              "\n",
              "        async function convertToInteractive(key) {\n",
              "          const element = document.querySelector('#df-124b49ab-153b-4d44-b7f5-1113de37d222');\n",
              "          const dataTable =\n",
              "            await google.colab.kernel.invokeFunction('convertToInteractive',\n",
              "                                                     [key], {});\n",
              "          if (!dataTable) return;\n",
              "\n",
              "          const docLinkHtml = 'Like what you see? Visit the ' +\n",
              "            '<a target=\"_blank\" href=https://colab.research.google.com/notebooks/data_table.ipynb>data table notebook</a>'\n",
              "            + ' to learn more about interactive tables.';\n",
              "          element.innerHTML = '';\n",
              "          dataTable['output_type'] = 'display_data';\n",
              "          await google.colab.output.renderOutput(dataTable, element);\n",
              "          const docLink = document.createElement('div');\n",
              "          docLink.innerHTML = docLinkHtml;\n",
              "          element.appendChild(docLink);\n",
              "        }\n",
              "      </script>\n",
              "    </div>\n",
              "  </div>\n",
              "  "
            ]
          },
          "metadata": {},
          "execution_count": 53
        }
      ]
    },
    {
      "cell_type": "markdown",
      "source": [
        "Hyperparameter Tuning using Grid Search\n",
        "\n"
      ],
      "metadata": {
        "id": "yyF4VktHvaMd"
      }
    },
    {
      "cell_type": "code",
      "source": [
        "for i in models:\n",
        "  regressor = models[i]\n",
        "  if i == 'Lasso':\n",
        "    lasso_params = {'alpha':[0.02, 0.024, 0.025, 0.026, 0.03],'max_iter':[1000,1100,2000],'tol':[0.001,0.0001,0.000001]}\n",
        "    grid = GridSearchCV(regressor,param_grid=lasso_params,cv=2,n_jobs=-1)\n",
        "    results = grid.fit(X_train,y_train)\n",
        "    print(\"Best Params are \", results.best_params_)\n",
        "    #accuracy = results.score(X_test,y_test)\n",
        "    accuracy=results.best_score_\n",
        "  else:    \n",
        "    c_validated = cross_val_score(regressor,X_train,y_train,cv=kfold)  \n",
        "    accuracy = c_validated.mean()\n",
        "  result[i]=[accuracy]\n",
        "pd.DataFrame(result)"
      ],
      "metadata": {
        "colab": {
          "base_uri": "https://localhost:8080/",
          "height": 98
        },
        "id": "E_zwc3bnvWMb",
        "outputId": "c634e339-f499-4f4c-e65a-1e2a3c32b052"
      },
      "execution_count": 54,
      "outputs": [
        {
          "output_type": "stream",
          "name": "stdout",
          "text": [
            "Best Params are  {'alpha': 0.02, 'max_iter': 1000, 'tol': 0.001}\n"
          ]
        },
        {
          "output_type": "execute_result",
          "data": {
            "text/plain": [
              "   LinearRegression     Lasso     Ridge  ElasticNet\n",
              "0               1.0  0.864147  0.999999    -0.00165"
            ],
            "text/html": [
              "\n",
              "  <div id=\"df-5d83cd04-a94e-468d-84dc-ec69f80d3683\">\n",
              "    <div class=\"colab-df-container\">\n",
              "      <div>\n",
              "<style scoped>\n",
              "    .dataframe tbody tr th:only-of-type {\n",
              "        vertical-align: middle;\n",
              "    }\n",
              "\n",
              "    .dataframe tbody tr th {\n",
              "        vertical-align: top;\n",
              "    }\n",
              "\n",
              "    .dataframe thead th {\n",
              "        text-align: right;\n",
              "    }\n",
              "</style>\n",
              "<table border=\"1\" class=\"dataframe\">\n",
              "  <thead>\n",
              "    <tr style=\"text-align: right;\">\n",
              "      <th></th>\n",
              "      <th>LinearRegression</th>\n",
              "      <th>Lasso</th>\n",
              "      <th>Ridge</th>\n",
              "      <th>ElasticNet</th>\n",
              "    </tr>\n",
              "  </thead>\n",
              "  <tbody>\n",
              "    <tr>\n",
              "      <th>0</th>\n",
              "      <td>1.0</td>\n",
              "      <td>0.864147</td>\n",
              "      <td>0.999999</td>\n",
              "      <td>-0.00165</td>\n",
              "    </tr>\n",
              "  </tbody>\n",
              "</table>\n",
              "</div>\n",
              "      <button class=\"colab-df-convert\" onclick=\"convertToInteractive('df-5d83cd04-a94e-468d-84dc-ec69f80d3683')\"\n",
              "              title=\"Convert this dataframe to an interactive table.\"\n",
              "              style=\"display:none;\">\n",
              "        \n",
              "  <svg xmlns=\"http://www.w3.org/2000/svg\" height=\"24px\"viewBox=\"0 0 24 24\"\n",
              "       width=\"24px\">\n",
              "    <path d=\"M0 0h24v24H0V0z\" fill=\"none\"/>\n",
              "    <path d=\"M18.56 5.44l.94 2.06.94-2.06 2.06-.94-2.06-.94-.94-2.06-.94 2.06-2.06.94zm-11 1L8.5 8.5l.94-2.06 2.06-.94-2.06-.94L8.5 2.5l-.94 2.06-2.06.94zm10 10l.94 2.06.94-2.06 2.06-.94-2.06-.94-.94-2.06-.94 2.06-2.06.94z\"/><path d=\"M17.41 7.96l-1.37-1.37c-.4-.4-.92-.59-1.43-.59-.52 0-1.04.2-1.43.59L10.3 9.45l-7.72 7.72c-.78.78-.78 2.05 0 2.83L4 21.41c.39.39.9.59 1.41.59.51 0 1.02-.2 1.41-.59l7.78-7.78 2.81-2.81c.8-.78.8-2.07 0-2.86zM5.41 20L4 18.59l7.72-7.72 1.47 1.35L5.41 20z\"/>\n",
              "  </svg>\n",
              "      </button>\n",
              "      \n",
              "  <style>\n",
              "    .colab-df-container {\n",
              "      display:flex;\n",
              "      flex-wrap:wrap;\n",
              "      gap: 12px;\n",
              "    }\n",
              "\n",
              "    .colab-df-convert {\n",
              "      background-color: #E8F0FE;\n",
              "      border: none;\n",
              "      border-radius: 50%;\n",
              "      cursor: pointer;\n",
              "      display: none;\n",
              "      fill: #1967D2;\n",
              "      height: 32px;\n",
              "      padding: 0 0 0 0;\n",
              "      width: 32px;\n",
              "    }\n",
              "\n",
              "    .colab-df-convert:hover {\n",
              "      background-color: #E2EBFA;\n",
              "      box-shadow: 0px 1px 2px rgba(60, 64, 67, 0.3), 0px 1px 3px 1px rgba(60, 64, 67, 0.15);\n",
              "      fill: #174EA6;\n",
              "    }\n",
              "\n",
              "    [theme=dark] .colab-df-convert {\n",
              "      background-color: #3B4455;\n",
              "      fill: #D2E3FC;\n",
              "    }\n",
              "\n",
              "    [theme=dark] .colab-df-convert:hover {\n",
              "      background-color: #434B5C;\n",
              "      box-shadow: 0px 1px 3px 1px rgba(0, 0, 0, 0.15);\n",
              "      filter: drop-shadow(0px 1px 2px rgba(0, 0, 0, 0.3));\n",
              "      fill: #FFFFFF;\n",
              "    }\n",
              "  </style>\n",
              "\n",
              "      <script>\n",
              "        const buttonEl =\n",
              "          document.querySelector('#df-5d83cd04-a94e-468d-84dc-ec69f80d3683 button.colab-df-convert');\n",
              "        buttonEl.style.display =\n",
              "          google.colab.kernel.accessAllowed ? 'block' : 'none';\n",
              "\n",
              "        async function convertToInteractive(key) {\n",
              "          const element = document.querySelector('#df-5d83cd04-a94e-468d-84dc-ec69f80d3683');\n",
              "          const dataTable =\n",
              "            await google.colab.kernel.invokeFunction('convertToInteractive',\n",
              "                                                     [key], {});\n",
              "          if (!dataTable) return;\n",
              "\n",
              "          const docLinkHtml = 'Like what you see? Visit the ' +\n",
              "            '<a target=\"_blank\" href=https://colab.research.google.com/notebooks/data_table.ipynb>data table notebook</a>'\n",
              "            + ' to learn more about interactive tables.';\n",
              "          element.innerHTML = '';\n",
              "          dataTable['output_type'] = 'display_data';\n",
              "          await google.colab.output.renderOutput(dataTable, element);\n",
              "          const docLink = document.createElement('div');\n",
              "          docLink.innerHTML = docLinkHtml;\n",
              "          element.appendChild(docLink);\n",
              "        }\n",
              "      </script>\n",
              "    </div>\n",
              "  </div>\n",
              "  "
            ]
          },
          "metadata": {},
          "execution_count": 54
        }
      ]
    },
    {
      "cell_type": "markdown",
      "source": [
        "Hyperparameter Tuning using Random Search\n"
      ],
      "metadata": {
        "id": "J1KI-jnQvkdh"
      }
    },
    {
      "cell_type": "code",
      "source": [
        "for i in models:\n",
        "  regressor = models[i]\n",
        "  if i == 'Lasso':\n",
        "    random = RandomizedSearchCV(regressor,param_distributions=lasso_params,cv=3,n_jobs=-1)\n",
        "    results = random.fit(X_train,y_train)\n",
        "    print(results.best_score_)\n",
        "    print(\"Best Params are \", results.best_params_)\n",
        "    #accuracy = results.score(X_test,y_test)\n",
        "    accuracy=results.best_score_\n",
        "  else:    \n",
        "    c_validated = cross_val_score(regressor,X_train,y_train,cv=kfold)  \n",
        "    accuracy = c_validated.mean()\n",
        "  result[i]=[accuracy]\n",
        "pd.DataFrame(result)"
      ],
      "metadata": {
        "colab": {
          "base_uri": "https://localhost:8080/",
          "height": 115
        },
        "id": "GKvO9p66vkLQ",
        "outputId": "70b6682a-b4d9-43dc-f2cc-fc1870c8abc0"
      },
      "execution_count": 55,
      "outputs": [
        {
          "output_type": "stream",
          "name": "stdout",
          "text": [
            "0.8661008006192734\n",
            "Best Params are  {'tol': 0.0001, 'max_iter': 1100, 'alpha': 0.02}\n"
          ]
        },
        {
          "output_type": "execute_result",
          "data": {
            "text/plain": [
              "   LinearRegression     Lasso     Ridge  ElasticNet\n",
              "0               1.0  0.866101  0.999999    -0.00165"
            ],
            "text/html": [
              "\n",
              "  <div id=\"df-1e3edd11-d941-4e68-abeb-f88421b2ef6b\">\n",
              "    <div class=\"colab-df-container\">\n",
              "      <div>\n",
              "<style scoped>\n",
              "    .dataframe tbody tr th:only-of-type {\n",
              "        vertical-align: middle;\n",
              "    }\n",
              "\n",
              "    .dataframe tbody tr th {\n",
              "        vertical-align: top;\n",
              "    }\n",
              "\n",
              "    .dataframe thead th {\n",
              "        text-align: right;\n",
              "    }\n",
              "</style>\n",
              "<table border=\"1\" class=\"dataframe\">\n",
              "  <thead>\n",
              "    <tr style=\"text-align: right;\">\n",
              "      <th></th>\n",
              "      <th>LinearRegression</th>\n",
              "      <th>Lasso</th>\n",
              "      <th>Ridge</th>\n",
              "      <th>ElasticNet</th>\n",
              "    </tr>\n",
              "  </thead>\n",
              "  <tbody>\n",
              "    <tr>\n",
              "      <th>0</th>\n",
              "      <td>1.0</td>\n",
              "      <td>0.866101</td>\n",
              "      <td>0.999999</td>\n",
              "      <td>-0.00165</td>\n",
              "    </tr>\n",
              "  </tbody>\n",
              "</table>\n",
              "</div>\n",
              "      <button class=\"colab-df-convert\" onclick=\"convertToInteractive('df-1e3edd11-d941-4e68-abeb-f88421b2ef6b')\"\n",
              "              title=\"Convert this dataframe to an interactive table.\"\n",
              "              style=\"display:none;\">\n",
              "        \n",
              "  <svg xmlns=\"http://www.w3.org/2000/svg\" height=\"24px\"viewBox=\"0 0 24 24\"\n",
              "       width=\"24px\">\n",
              "    <path d=\"M0 0h24v24H0V0z\" fill=\"none\"/>\n",
              "    <path d=\"M18.56 5.44l.94 2.06.94-2.06 2.06-.94-2.06-.94-.94-2.06-.94 2.06-2.06.94zm-11 1L8.5 8.5l.94-2.06 2.06-.94-2.06-.94L8.5 2.5l-.94 2.06-2.06.94zm10 10l.94 2.06.94-2.06 2.06-.94-2.06-.94-.94-2.06-.94 2.06-2.06.94z\"/><path d=\"M17.41 7.96l-1.37-1.37c-.4-.4-.92-.59-1.43-.59-.52 0-1.04.2-1.43.59L10.3 9.45l-7.72 7.72c-.78.78-.78 2.05 0 2.83L4 21.41c.39.39.9.59 1.41.59.51 0 1.02-.2 1.41-.59l7.78-7.78 2.81-2.81c.8-.78.8-2.07 0-2.86zM5.41 20L4 18.59l7.72-7.72 1.47 1.35L5.41 20z\"/>\n",
              "  </svg>\n",
              "      </button>\n",
              "      \n",
              "  <style>\n",
              "    .colab-df-container {\n",
              "      display:flex;\n",
              "      flex-wrap:wrap;\n",
              "      gap: 12px;\n",
              "    }\n",
              "\n",
              "    .colab-df-convert {\n",
              "      background-color: #E8F0FE;\n",
              "      border: none;\n",
              "      border-radius: 50%;\n",
              "      cursor: pointer;\n",
              "      display: none;\n",
              "      fill: #1967D2;\n",
              "      height: 32px;\n",
              "      padding: 0 0 0 0;\n",
              "      width: 32px;\n",
              "    }\n",
              "\n",
              "    .colab-df-convert:hover {\n",
              "      background-color: #E2EBFA;\n",
              "      box-shadow: 0px 1px 2px rgba(60, 64, 67, 0.3), 0px 1px 3px 1px rgba(60, 64, 67, 0.15);\n",
              "      fill: #174EA6;\n",
              "    }\n",
              "\n",
              "    [theme=dark] .colab-df-convert {\n",
              "      background-color: #3B4455;\n",
              "      fill: #D2E3FC;\n",
              "    }\n",
              "\n",
              "    [theme=dark] .colab-df-convert:hover {\n",
              "      background-color: #434B5C;\n",
              "      box-shadow: 0px 1px 3px 1px rgba(0, 0, 0, 0.15);\n",
              "      filter: drop-shadow(0px 1px 2px rgba(0, 0, 0, 0.3));\n",
              "      fill: #FFFFFF;\n",
              "    }\n",
              "  </style>\n",
              "\n",
              "      <script>\n",
              "        const buttonEl =\n",
              "          document.querySelector('#df-1e3edd11-d941-4e68-abeb-f88421b2ef6b button.colab-df-convert');\n",
              "        buttonEl.style.display =\n",
              "          google.colab.kernel.accessAllowed ? 'block' : 'none';\n",
              "\n",
              "        async function convertToInteractive(key) {\n",
              "          const element = document.querySelector('#df-1e3edd11-d941-4e68-abeb-f88421b2ef6b');\n",
              "          const dataTable =\n",
              "            await google.colab.kernel.invokeFunction('convertToInteractive',\n",
              "                                                     [key], {});\n",
              "          if (!dataTable) return;\n",
              "\n",
              "          const docLinkHtml = 'Like what you see? Visit the ' +\n",
              "            '<a target=\"_blank\" href=https://colab.research.google.com/notebooks/data_table.ipynb>data table notebook</a>'\n",
              "            + ' to learn more about interactive tables.';\n",
              "          element.innerHTML = '';\n",
              "          dataTable['output_type'] = 'display_data';\n",
              "          await google.colab.output.renderOutput(dataTable, element);\n",
              "          const docLink = document.createElement('div');\n",
              "          docLink.innerHTML = docLinkHtml;\n",
              "          element.appendChild(docLink);\n",
              "        }\n",
              "      </script>\n",
              "    </div>\n",
              "  </div>\n",
              "  "
            ]
          },
          "metadata": {},
          "execution_count": 55
        }
      ]
    }
  ]
}